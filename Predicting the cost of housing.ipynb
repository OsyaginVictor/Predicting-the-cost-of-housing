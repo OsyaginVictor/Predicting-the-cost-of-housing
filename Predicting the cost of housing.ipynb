{
  "cells": [
    {
      "cell_type": "markdown",
      "metadata": {
        "id": "view-in-github",
        "colab_type": "text"
      },
      "source": [
        "<a href=\"https://colab.research.google.com/github/OsyaginVictor/Predicting-the-cost-of-housing/blob/main/Predicting%20the%20cost%20of%20housing.ipynb\" target=\"_parent\"><img src=\"https://colab.research.google.com/assets/colab-badge.svg\" alt=\"Open In Colab\"/></a>"
      ]
    },
    {
      "cell_type": "markdown",
      "metadata": {
        "id": "Qr_A-o9yAkHg",
        "outputId": "c7c1384b-29c3-4ad3-dbfb-d32344c3c248"
      },
      "source": [
        "## Предсказание стоимости жилья\n",
        "\n",
        "В проекте вам нужно обучить модель линейной регрессии на данных о жилье в Калифорнии в 1990 году. На основе данных нужно предсказать медианную стоимость дома в жилом массиве. Обучите модель и сделайте предсказания на тестовой выборке. Для оценки качества модели используйте метрики RMSE, MAE и R2."
      ]
    },
    {
      "cell_type": "markdown",
      "metadata": {
        "id": "XUaGCIY2X3Om"
      },
      "source": [
        "Откроем нужные нам библиотет=ки и посмотрим на данные."
      ]
    },
    {
      "cell_type": "code",
      "execution_count": null,
      "metadata": {
        "id": "O50DLiZzX3Om",
        "outputId": "133011cd-c1d7-4005-b65e-a91bac32c927"
      },
      "outputs": [
        {
          "data": {
            "text/html": [
              "\n",
              "            <div>\n",
              "                <p><b>SparkSession - in-memory</b></p>\n",
              "                \n",
              "        <div>\n",
              "            <p><b>SparkContext</b></p>\n",
              "\n",
              "            <p><a href=\"http://jupyter-user-0-884908223:4050\">Spark UI</a></p>\n",
              "\n",
              "            <dl>\n",
              "              <dt>Version</dt>\n",
              "                <dd><code>v3.0.2</code></dd>\n",
              "              <dt>Master</dt>\n",
              "                <dd><code>local</code></dd>\n",
              "              <dt>AppName</dt>\n",
              "                <dd><code>Learning DataFrames</code></dd>\n",
              "            </dl>\n",
              "        </div>\n",
              "        \n",
              "            </div>\n",
              "        "
            ],
            "text/plain": [
              "<pyspark.sql.session.SparkSession at 0x7fcc70c61a00>"
            ]
          },
          "execution_count": 1,
          "metadata": {},
          "output_type": "execute_result"
        }
      ],
      "source": [
        "from pyspark.sql import SparkSession\n",
        "from pyspark.sql.functions import monotonically_increasing_id\n",
        "from pyspark.sql.functions import mean\n",
        "from pyspark.sql.types import FloatType\n",
        "from pyspark.sql.functions import udf\n",
        "from pyspark.ml.feature import Imputer\n",
        "from pyspark.ml.feature import VectorAssembler\n",
        "from pyspark.ml.feature import StandardScaler\n",
        "from pyspark.ml.feature import StringIndexer\n",
        "from pyspark.ml.feature import OneHotEncoder\n",
        "from pyspark.ml.regression import LinearRegression\n",
        "from pyspark.mllib.evaluation import RegressionMetrics\n",
        "from pyspark.sql.window import Window\n",
        "import pyspark.sql.functions as F\n",
        "spark = SparkSession.builder\\\n",
        "        .master(\"local\")\\\n",
        "        .appName(\"Learning DataFrames\")\\\n",
        "        .config('spark.ui.port', '4050')\\\n",
        "        .getOrCreate()\n",
        "\n",
        "spark"
      ]
    },
    {
      "cell_type": "code",
      "execution_count": null,
      "metadata": {
        "id": "lg0zL-MTX3Om",
        "outputId": "af990cb1-4b58-4cf4-a174-ebfaaf35c396"
      },
      "outputs": [
        {
          "name": "stderr",
          "output_type": "stream",
          "text": [
            "                                                                                \r"
          ]
        },
        {
          "name": "stdout",
          "output_type": "stream",
          "text": [
            "root\n",
            " |-- longitude: double (nullable = true)\n",
            " |-- latitude: double (nullable = true)\n",
            " |-- housing_median_age: double (nullable = true)\n",
            " |-- total_rooms: double (nullable = true)\n",
            " |-- total_bedrooms: double (nullable = true)\n",
            " |-- population: double (nullable = true)\n",
            " |-- households: double (nullable = true)\n",
            " |-- median_income: double (nullable = true)\n",
            " |-- median_house_value: double (nullable = true)\n",
            " |-- ocean_proximity: string (nullable = true)\n",
            "\n"
          ]
        },
        {
          "name": "stderr",
          "output_type": "stream",
          "text": [
            "                                                                                \r"
          ]
        }
      ],
      "source": [
        "df = spark.read.format(\"csv\").load(\"/datasets/housing.csv\", header=True, inferSchema=True)\n",
        "\n",
        "df.printSchema()"
      ]
    },
    {
      "cell_type": "code",
      "execution_count": null,
      "metadata": {
        "colab": {
          "base_uri": "https://localhost:8080/"
        },
        "id": "EagnANC7Bbiv",
        "outputId": "766815b4-d790-4adc-b2b6-87daaf5c2eda"
      },
      "outputs": [
        {
          "name": "stdout",
          "output_type": "stream",
          "text": [
            "+---------+--------+------------------+-----------+--------------+----------+----------+-------------+------------------+---------------+\n",
            "|longitude|latitude|housing_median_age|total_rooms|total_bedrooms|population|households|median_income|median_house_value|ocean_proximity|\n",
            "+---------+--------+------------------+-----------+--------------+----------+----------+-------------+------------------+---------------+\n",
            "|  -122.23|   37.88|              41.0|      880.0|         129.0|     322.0|     126.0|       8.3252|          452600.0|       NEAR BAY|\n",
            "|  -122.22|   37.86|              21.0|     7099.0|        1106.0|    2401.0|    1138.0|       8.3014|          358500.0|       NEAR BAY|\n",
            "|  -122.24|   37.85|              52.0|     1467.0|         190.0|     496.0|     177.0|       7.2574|          352100.0|       NEAR BAY|\n",
            "|  -122.25|   37.85|              52.0|     1274.0|         235.0|     558.0|     219.0|       5.6431|          341300.0|       NEAR BAY|\n",
            "|  -122.25|   37.85|              52.0|     1627.0|         280.0|     565.0|     259.0|       3.8462|          342200.0|       NEAR BAY|\n",
            "+---------+--------+------------------+-----------+--------------+----------+----------+-------------+------------------+---------------+\n",
            "only showing top 5 rows\n",
            "\n"
          ]
        }
      ],
      "source": [
        "df.show(5)"
      ]
    },
    {
      "cell_type": "code",
      "execution_count": null,
      "metadata": {
        "id": "I65eGa7-X3On",
        "outputId": "bff0020a-b4d7-44a9-9872-26da07d9cfd7"
      },
      "outputs": [
        {
          "data": {
            "text/html": [
              "<div>\n",
              "<style scoped>\n",
              "    .dataframe tbody tr th:only-of-type {\n",
              "        vertical-align: middle;\n",
              "    }\n",
              "\n",
              "    .dataframe tbody tr th {\n",
              "        vertical-align: top;\n",
              "    }\n",
              "\n",
              "    .dataframe thead th {\n",
              "        text-align: right;\n",
              "    }\n",
              "</style>\n",
              "<table border=\"1\" class=\"dataframe\">\n",
              "  <thead>\n",
              "    <tr style=\"text-align: right;\">\n",
              "      <th></th>\n",
              "      <th>longitude</th>\n",
              "      <th>latitude</th>\n",
              "      <th>housing_median_age</th>\n",
              "      <th>total_rooms</th>\n",
              "      <th>total_bedrooms</th>\n",
              "      <th>population</th>\n",
              "      <th>households</th>\n",
              "      <th>median_income</th>\n",
              "      <th>median_house_value</th>\n",
              "      <th>ocean_proximity</th>\n",
              "    </tr>\n",
              "  </thead>\n",
              "  <tbody>\n",
              "    <tr>\n",
              "      <th>0</th>\n",
              "      <td>-122.23</td>\n",
              "      <td>37.88</td>\n",
              "      <td>41.0</td>\n",
              "      <td>880.0</td>\n",
              "      <td>129.0</td>\n",
              "      <td>322.0</td>\n",
              "      <td>126.0</td>\n",
              "      <td>8.3252</td>\n",
              "      <td>452600.0</td>\n",
              "      <td>NEAR BAY</td>\n",
              "    </tr>\n",
              "    <tr>\n",
              "      <th>1</th>\n",
              "      <td>-122.22</td>\n",
              "      <td>37.86</td>\n",
              "      <td>21.0</td>\n",
              "      <td>7099.0</td>\n",
              "      <td>1106.0</td>\n",
              "      <td>2401.0</td>\n",
              "      <td>1138.0</td>\n",
              "      <td>8.3014</td>\n",
              "      <td>358500.0</td>\n",
              "      <td>NEAR BAY</td>\n",
              "    </tr>\n",
              "    <tr>\n",
              "      <th>2</th>\n",
              "      <td>-122.24</td>\n",
              "      <td>37.85</td>\n",
              "      <td>52.0</td>\n",
              "      <td>1467.0</td>\n",
              "      <td>190.0</td>\n",
              "      <td>496.0</td>\n",
              "      <td>177.0</td>\n",
              "      <td>7.2574</td>\n",
              "      <td>352100.0</td>\n",
              "      <td>NEAR BAY</td>\n",
              "    </tr>\n",
              "    <tr>\n",
              "      <th>3</th>\n",
              "      <td>-122.25</td>\n",
              "      <td>37.85</td>\n",
              "      <td>52.0</td>\n",
              "      <td>1274.0</td>\n",
              "      <td>235.0</td>\n",
              "      <td>558.0</td>\n",
              "      <td>219.0</td>\n",
              "      <td>5.6431</td>\n",
              "      <td>341300.0</td>\n",
              "      <td>NEAR BAY</td>\n",
              "    </tr>\n",
              "    <tr>\n",
              "      <th>4</th>\n",
              "      <td>-122.25</td>\n",
              "      <td>37.85</td>\n",
              "      <td>52.0</td>\n",
              "      <td>1627.0</td>\n",
              "      <td>280.0</td>\n",
              "      <td>565.0</td>\n",
              "      <td>259.0</td>\n",
              "      <td>3.8462</td>\n",
              "      <td>342200.0</td>\n",
              "      <td>NEAR BAY</td>\n",
              "    </tr>\n",
              "    <tr>\n",
              "      <th>...</th>\n",
              "      <td>...</td>\n",
              "      <td>...</td>\n",
              "      <td>...</td>\n",
              "      <td>...</td>\n",
              "      <td>...</td>\n",
              "      <td>...</td>\n",
              "      <td>...</td>\n",
              "      <td>...</td>\n",
              "      <td>...</td>\n",
              "      <td>...</td>\n",
              "    </tr>\n",
              "    <tr>\n",
              "      <th>20635</th>\n",
              "      <td>-121.09</td>\n",
              "      <td>39.48</td>\n",
              "      <td>25.0</td>\n",
              "      <td>1665.0</td>\n",
              "      <td>374.0</td>\n",
              "      <td>845.0</td>\n",
              "      <td>330.0</td>\n",
              "      <td>1.5603</td>\n",
              "      <td>78100.0</td>\n",
              "      <td>INLAND</td>\n",
              "    </tr>\n",
              "    <tr>\n",
              "      <th>20636</th>\n",
              "      <td>-121.21</td>\n",
              "      <td>39.49</td>\n",
              "      <td>18.0</td>\n",
              "      <td>697.0</td>\n",
              "      <td>150.0</td>\n",
              "      <td>356.0</td>\n",
              "      <td>114.0</td>\n",
              "      <td>2.5568</td>\n",
              "      <td>77100.0</td>\n",
              "      <td>INLAND</td>\n",
              "    </tr>\n",
              "    <tr>\n",
              "      <th>20637</th>\n",
              "      <td>-121.22</td>\n",
              "      <td>39.43</td>\n",
              "      <td>17.0</td>\n",
              "      <td>2254.0</td>\n",
              "      <td>485.0</td>\n",
              "      <td>1007.0</td>\n",
              "      <td>433.0</td>\n",
              "      <td>1.7000</td>\n",
              "      <td>92300.0</td>\n",
              "      <td>INLAND</td>\n",
              "    </tr>\n",
              "    <tr>\n",
              "      <th>20638</th>\n",
              "      <td>-121.32</td>\n",
              "      <td>39.43</td>\n",
              "      <td>18.0</td>\n",
              "      <td>1860.0</td>\n",
              "      <td>409.0</td>\n",
              "      <td>741.0</td>\n",
              "      <td>349.0</td>\n",
              "      <td>1.8672</td>\n",
              "      <td>84700.0</td>\n",
              "      <td>INLAND</td>\n",
              "    </tr>\n",
              "    <tr>\n",
              "      <th>20639</th>\n",
              "      <td>-121.24</td>\n",
              "      <td>39.37</td>\n",
              "      <td>16.0</td>\n",
              "      <td>2785.0</td>\n",
              "      <td>616.0</td>\n",
              "      <td>1387.0</td>\n",
              "      <td>530.0</td>\n",
              "      <td>2.3886</td>\n",
              "      <td>89400.0</td>\n",
              "      <td>INLAND</td>\n",
              "    </tr>\n",
              "  </tbody>\n",
              "</table>\n",
              "<p>20640 rows × 10 columns</p>\n",
              "</div>"
            ],
            "text/plain": [
              "       longitude  latitude  housing_median_age  total_rooms  total_bedrooms  \\\n",
              "0        -122.23     37.88                41.0        880.0           129.0   \n",
              "1        -122.22     37.86                21.0       7099.0          1106.0   \n",
              "2        -122.24     37.85                52.0       1467.0           190.0   \n",
              "3        -122.25     37.85                52.0       1274.0           235.0   \n",
              "4        -122.25     37.85                52.0       1627.0           280.0   \n",
              "...          ...       ...                 ...          ...             ...   \n",
              "20635    -121.09     39.48                25.0       1665.0           374.0   \n",
              "20636    -121.21     39.49                18.0        697.0           150.0   \n",
              "20637    -121.22     39.43                17.0       2254.0           485.0   \n",
              "20638    -121.32     39.43                18.0       1860.0           409.0   \n",
              "20639    -121.24     39.37                16.0       2785.0           616.0   \n",
              "\n",
              "       population  households  median_income  median_house_value  \\\n",
              "0           322.0       126.0         8.3252            452600.0   \n",
              "1          2401.0      1138.0         8.3014            358500.0   \n",
              "2           496.0       177.0         7.2574            352100.0   \n",
              "3           558.0       219.0         5.6431            341300.0   \n",
              "4           565.0       259.0         3.8462            342200.0   \n",
              "...           ...         ...            ...                 ...   \n",
              "20635       845.0       330.0         1.5603             78100.0   \n",
              "20636       356.0       114.0         2.5568             77100.0   \n",
              "20637      1007.0       433.0         1.7000             92300.0   \n",
              "20638       741.0       349.0         1.8672             84700.0   \n",
              "20639      1387.0       530.0         2.3886             89400.0   \n",
              "\n",
              "      ocean_proximity  \n",
              "0            NEAR BAY  \n",
              "1            NEAR BAY  \n",
              "2            NEAR BAY  \n",
              "3            NEAR BAY  \n",
              "4            NEAR BAY  \n",
              "...               ...  \n",
              "20635          INLAND  \n",
              "20636          INLAND  \n",
              "20637          INLAND  \n",
              "20638          INLAND  \n",
              "20639          INLAND  \n",
              "\n",
              "[20640 rows x 10 columns]"
            ]
          },
          "execution_count": 4,
          "metadata": {},
          "output_type": "execute_result"
        }
      ],
      "source": [
        "cases_df = df.toPandas()\n",
        "cases_df"
      ]
    },
    {
      "cell_type": "markdown",
      "metadata": {
        "id": "1AS6N2K4X3On"
      },
      "source": [
        "Проверим датасет на дубликаты."
      ]
    },
    {
      "cell_type": "code",
      "execution_count": null,
      "metadata": {
        "id": "LatbqKIcX3On",
        "outputId": "3629db73-2016-47f1-8a6d-ee0eedca92fa"
      },
      "outputs": [
        {
          "data": {
            "text/plain": [
              "0"
            ]
          },
          "execution_count": 5,
          "metadata": {},
          "output_type": "execute_result"
        }
      ],
      "source": [
        "cases_df.duplicated().sum()"
      ]
    },
    {
      "cell_type": "markdown",
      "metadata": {
        "id": "z3DL8M-jX3On"
      },
      "source": [
        "Проверим датасет на пропуски."
      ]
    },
    {
      "cell_type": "code",
      "execution_count": null,
      "metadata": {
        "id": "GlXNKgxxX3On",
        "outputId": "f747416b-ec2b-46b0-9bfc-fcd501914270"
      },
      "outputs": [
        {
          "data": {
            "text/plain": [
              "longitude               0\n",
              "latitude                0\n",
              "housing_median_age      0\n",
              "total_rooms             0\n",
              "total_bedrooms        207\n",
              "population              0\n",
              "households              0\n",
              "median_income           0\n",
              "median_house_value      0\n",
              "ocean_proximity         0\n",
              "dtype: int64"
            ]
          },
          "execution_count": 6,
          "metadata": {},
          "output_type": "execute_result"
        }
      ],
      "source": [
        "cases_df.isna().sum()"
      ]
    },
    {
      "cell_type": "code",
      "execution_count": null,
      "metadata": {
        "id": "Z2MjNZy4X3On",
        "outputId": "76e76fe6-58f2-4eb9-b56a-eb5c0e541c32"
      },
      "outputs": [
        {
          "name": "stdout",
          "output_type": "stream",
          "text": [
            "+---------+--------+------------------+-----------+--------------+----------+----------+-------------+------------------+---------------+\n",
            "|longitude|latitude|housing_median_age|total_rooms|total_bedrooms|population|households|median_income|median_house_value|ocean_proximity|\n",
            "+---------+--------+------------------+-----------+--------------+----------+----------+-------------+------------------+---------------+\n",
            "|  -122.23|   37.88|              41.0|      880.0|         129.0|     322.0|     126.0|       8.3252|          452600.0|       NEAR BAY|\n",
            "|  -122.22|   37.86|              21.0|     7099.0|        1106.0|    2401.0|    1138.0|       8.3014|          358500.0|       NEAR BAY|\n",
            "|  -122.24|   37.85|              52.0|     1467.0|         190.0|     496.0|     177.0|       7.2574|          352100.0|       NEAR BAY|\n",
            "|  -122.25|   37.85|              52.0|     1274.0|         235.0|     558.0|     219.0|       5.6431|          341300.0|       NEAR BAY|\n",
            "|  -122.25|   37.85|              52.0|     1627.0|         280.0|     565.0|     259.0|       3.8462|          342200.0|       NEAR BAY|\n",
            "|  -122.25|   37.85|              52.0|      919.0|         213.0|     413.0|     193.0|       4.0368|          269700.0|       NEAR BAY|\n",
            "|  -122.25|   37.84|              52.0|     2535.0|         489.0|    1094.0|     514.0|       3.6591|          299200.0|       NEAR BAY|\n",
            "|  -122.25|   37.84|              52.0|     3104.0|         687.0|    1157.0|     647.0|         3.12|          241400.0|       NEAR BAY|\n",
            "|  -122.26|   37.84|              42.0|     2555.0|         665.0|    1206.0|     595.0|       2.0804|          226700.0|       NEAR BAY|\n",
            "|  -122.25|   37.84|              52.0|     3549.0|         707.0|    1551.0|     714.0|       3.6912|          261100.0|       NEAR BAY|\n",
            "|  -122.26|   37.85|              52.0|     2202.0|         434.0|     910.0|     402.0|       3.2031|          281500.0|       NEAR BAY|\n",
            "|  -122.26|   37.85|              52.0|     3503.0|         752.0|    1504.0|     734.0|       3.2705|          241800.0|       NEAR BAY|\n",
            "|  -122.26|   37.85|              52.0|     2491.0|         474.0|    1098.0|     468.0|        3.075|          213500.0|       NEAR BAY|\n",
            "|  -122.26|   37.84|              52.0|      696.0|         191.0|     345.0|     174.0|       2.6736|          191300.0|       NEAR BAY|\n",
            "|  -122.26|   37.85|              52.0|     2643.0|         626.0|    1212.0|     620.0|       1.9167|          159200.0|       NEAR BAY|\n",
            "|  -122.26|   37.85|              50.0|     1120.0|         283.0|     697.0|     264.0|        2.125|          140000.0|       NEAR BAY|\n",
            "|  -122.27|   37.85|              52.0|     1966.0|         347.0|     793.0|     331.0|        2.775|          152500.0|       NEAR BAY|\n",
            "|  -122.27|   37.85|              52.0|     1228.0|         293.0|     648.0|     303.0|       2.1202|          155500.0|       NEAR BAY|\n",
            "|  -122.26|   37.84|              50.0|     2239.0|         455.0|     990.0|     419.0|       1.9911|          158700.0|       NEAR BAY|\n",
            "|  -122.27|   37.84|              52.0|     1503.0|         298.0|     690.0|     275.0|       2.6033|          162900.0|       NEAR BAY|\n",
            "+---------+--------+------------------+-----------+--------------+----------+----------+-------------+------------------+---------------+\n",
            "only showing top 20 rows\n",
            "\n"
          ]
        }
      ],
      "source": [
        "df.na.fill(value=0,subset=[\"total_bedrooms\"]).show()"
      ]
    },
    {
      "cell_type": "markdown",
      "metadata": {
        "id": "oXmja9WuX3On"
      },
      "source": [
        "Посмотрим какие значения есть в датасете."
      ]
    },
    {
      "cell_type": "code",
      "execution_count": null,
      "metadata": {
        "id": "HDjJE29ZX3Oo",
        "outputId": "74193537-8545-4df4-ca55-c60c4750b1c3"
      },
      "outputs": [
        {
          "name": "stderr",
          "output_type": "stream",
          "text": [
            "                                                                                \r"
          ]
        },
        {
          "data": {
            "text/html": [
              "<div>\n",
              "<style scoped>\n",
              "    .dataframe tbody tr th:only-of-type {\n",
              "        vertical-align: middle;\n",
              "    }\n",
              "\n",
              "    .dataframe tbody tr th {\n",
              "        vertical-align: top;\n",
              "    }\n",
              "\n",
              "    .dataframe thead th {\n",
              "        text-align: right;\n",
              "    }\n",
              "</style>\n",
              "<table border=\"1\" class=\"dataframe\">\n",
              "  <thead>\n",
              "    <tr style=\"text-align: right;\">\n",
              "      <th></th>\n",
              "      <th>summary</th>\n",
              "      <th>longitude</th>\n",
              "      <th>latitude</th>\n",
              "      <th>housing_median_age</th>\n",
              "      <th>total_rooms</th>\n",
              "      <th>total_bedrooms</th>\n",
              "      <th>population</th>\n",
              "      <th>households</th>\n",
              "      <th>median_income</th>\n",
              "      <th>median_house_value</th>\n",
              "      <th>ocean_proximity</th>\n",
              "    </tr>\n",
              "  </thead>\n",
              "  <tbody>\n",
              "    <tr>\n",
              "      <th>0</th>\n",
              "      <td>count</td>\n",
              "      <td>20640</td>\n",
              "      <td>20640</td>\n",
              "      <td>20640</td>\n",
              "      <td>20640</td>\n",
              "      <td>20433</td>\n",
              "      <td>20640</td>\n",
              "      <td>20640</td>\n",
              "      <td>20640</td>\n",
              "      <td>20640</td>\n",
              "      <td>20640</td>\n",
              "    </tr>\n",
              "    <tr>\n",
              "      <th>1</th>\n",
              "      <td>mean</td>\n",
              "      <td>-119.56970445736148</td>\n",
              "      <td>35.6318614341087</td>\n",
              "      <td>28.639486434108527</td>\n",
              "      <td>2635.7630813953488</td>\n",
              "      <td>537.8705525375618</td>\n",
              "      <td>1425.4767441860465</td>\n",
              "      <td>499.5396802325581</td>\n",
              "      <td>3.8706710029070246</td>\n",
              "      <td>206855.81690891474</td>\n",
              "      <td>None</td>\n",
              "    </tr>\n",
              "    <tr>\n",
              "      <th>2</th>\n",
              "      <td>stddev</td>\n",
              "      <td>2.003531723502584</td>\n",
              "      <td>2.135952397457101</td>\n",
              "      <td>12.58555761211163</td>\n",
              "      <td>2181.6152515827944</td>\n",
              "      <td>421.38507007403115</td>\n",
              "      <td>1132.46212176534</td>\n",
              "      <td>382.3297528316098</td>\n",
              "      <td>1.899821717945263</td>\n",
              "      <td>115395.61587441359</td>\n",
              "      <td>None</td>\n",
              "    </tr>\n",
              "    <tr>\n",
              "      <th>3</th>\n",
              "      <td>min</td>\n",
              "      <td>-124.35</td>\n",
              "      <td>32.54</td>\n",
              "      <td>1.0</td>\n",
              "      <td>2.0</td>\n",
              "      <td>1.0</td>\n",
              "      <td>3.0</td>\n",
              "      <td>1.0</td>\n",
              "      <td>0.4999</td>\n",
              "      <td>14999.0</td>\n",
              "      <td>&lt;1H OCEAN</td>\n",
              "    </tr>\n",
              "    <tr>\n",
              "      <th>4</th>\n",
              "      <td>max</td>\n",
              "      <td>-114.31</td>\n",
              "      <td>41.95</td>\n",
              "      <td>52.0</td>\n",
              "      <td>39320.0</td>\n",
              "      <td>6445.0</td>\n",
              "      <td>35682.0</td>\n",
              "      <td>6082.0</td>\n",
              "      <td>15.0001</td>\n",
              "      <td>500001.0</td>\n",
              "      <td>NEAR OCEAN</td>\n",
              "    </tr>\n",
              "  </tbody>\n",
              "</table>\n",
              "</div>"
            ],
            "text/plain": [
              "  summary            longitude           latitude  housing_median_age  \\\n",
              "0   count                20640              20640               20640   \n",
              "1    mean  -119.56970445736148   35.6318614341087  28.639486434108527   \n",
              "2  stddev    2.003531723502584  2.135952397457101   12.58555761211163   \n",
              "3     min              -124.35              32.54                 1.0   \n",
              "4     max              -114.31              41.95                52.0   \n",
              "\n",
              "          total_rooms      total_bedrooms          population  \\\n",
              "0               20640               20433               20640   \n",
              "1  2635.7630813953488   537.8705525375618  1425.4767441860465   \n",
              "2  2181.6152515827944  421.38507007403115    1132.46212176534   \n",
              "3                 2.0                 1.0                 3.0   \n",
              "4             39320.0              6445.0             35682.0   \n",
              "\n",
              "          households       median_income  median_house_value ocean_proximity  \n",
              "0              20640               20640               20640           20640  \n",
              "1  499.5396802325581  3.8706710029070246  206855.81690891474            None  \n",
              "2  382.3297528316098   1.899821717945263  115395.61587441359            None  \n",
              "3                1.0              0.4999             14999.0       <1H OCEAN  \n",
              "4             6082.0             15.0001            500001.0      NEAR OCEAN  "
            ]
          },
          "execution_count": 8,
          "metadata": {},
          "output_type": "execute_result"
        }
      ],
      "source": [
        "df.describe().toPandas()"
      ]
    },
    {
      "cell_type": "markdown",
      "metadata": {
        "id": "ptioyZJaX3Oo"
      },
      "source": [
        "Начнём подготавливаться к обучению модели."
      ]
    },
    {
      "cell_type": "markdown",
      "metadata": {
        "id": "oIBrhYRyX3Oo"
      },
      "source": [
        "Разделяем наш датасет на две части — выборку для обучения и выборку для тестирования качества модели."
      ]
    },
    {
      "cell_type": "code",
      "execution_count": null,
      "metadata": {
        "colab": {
          "base_uri": "https://localhost:8080/"
        },
        "id": "gn8tyVqYFgZ5",
        "outputId": "1af1c750-d5a8-4ee5-c4ff-d0c36b2265dd"
      },
      "outputs": [
        {
          "data": {
            "text/plain": [
              "(DataFrame[longitude: double, latitude: double, housing_median_age: double, total_rooms: double, total_bedrooms: double, population: double, households: double, median_income: double, median_house_value: double, ocean_proximity: string],\n",
              " DataFrame[longitude: double, latitude: double, housing_median_age: double, total_rooms: double, total_bedrooms: double, population: double, households: double, median_income: double, median_house_value: double, ocean_proximity: string])"
            ]
          },
          "execution_count": 9,
          "metadata": {},
          "output_type": "execute_result"
        }
      ],
      "source": [
        "train, test = df.randomSplit([0.8, 0.2], seed = 12345)\n",
        "\n",
        "train, test"
      ]
    },
    {
      "cell_type": "markdown",
      "metadata": {
        "id": "V85LbayQX3Oo"
      },
      "source": [
        "Нужно получить список колонок,которые являются количественными."
      ]
    },
    {
      "cell_type": "code",
      "execution_count": null,
      "metadata": {
        "colab": {
          "base_uri": "https://localhost:8080/"
        },
        "id": "ZgycMxOTFuEe",
        "outputId": "6f47be65-5b54-4974-b38c-9d5851ed1ace"
      },
      "outputs": [
        {
          "data": {
            "text/plain": [
              "['longitude',\n",
              " 'latitude',\n",
              " 'housing_median_age',\n",
              " 'total_rooms',\n",
              " 'total_bedrooms',\n",
              " 'population',\n",
              " 'households',\n",
              " 'median_income']"
            ]
          },
          "execution_count": 10,
          "metadata": {},
          "output_type": "execute_result"
        }
      ],
      "source": [
        "numerical_features_lst = train.columns\n",
        "numerical_features_lst.remove('median_house_value')\n",
        "numerical_features_lst.remove('ocean_proximity')\n",
        "\n",
        "numerical_features_lst"
      ]
    },
    {
      "cell_type": "code",
      "execution_count": null,
      "metadata": {
        "colab": {
          "base_uri": "https://localhost:8080/"
        },
        "id": "o5fTuzpSGPgx",
        "outputId": "ef4385de-a03e-45d6-cec8-430375c4ca52"
      },
      "outputs": [
        {
          "name": "stdout",
          "output_type": "stream",
          "text": [
            "+---------+--------+------------------+-----------+--------------+----------+----------+-------------+------------------+---------------+\n",
            "|longitude|latitude|housing_median_age|total_rooms|total_bedrooms|population|households|median_income|median_house_value|ocean_proximity|\n",
            "+---------+--------+------------------+-----------+--------------+----------+----------+-------------+------------------+---------------+\n",
            "|  -124.35|   40.54|              52.0|     1820.0|         300.0|     806.0|     270.0|       3.0147|           94600.0|     NEAR OCEAN|\n",
            "|   -124.3|    41.8|              19.0|     2672.0|         552.0|    1298.0|     478.0|       1.9797|           85800.0|     NEAR OCEAN|\n",
            "|   -124.3|   41.84|              17.0|     2677.0|         531.0|    1244.0|     456.0|       3.0313|          103600.0|     NEAR OCEAN|\n",
            "+---------+--------+------------------+-----------+--------------+----------+----------+-------------+------------------+---------------+\n",
            "only showing top 3 rows\n",
            "\n"
          ]
        }
      ],
      "source": [
        "imputer = Imputer(inputCols=numerical_features_lst,\n",
        "                  outputCols=numerical_features_lst)\n",
        "\n",
        "imputer = imputer.fit(train)\n",
        "\n",
        "train = imputer.transform(train)\n",
        "test = imputer.transform(test)\n",
        "\n",
        "train.show(3)"
      ]
    },
    {
      "cell_type": "markdown",
      "metadata": {
        "id": "wlJoq5fgX3Op"
      },
      "source": [
        "Делаем шкалирование значений — чтобы сильные выбросы не смещали предсказания модели"
      ]
    },
    {
      "cell_type": "code",
      "execution_count": null,
      "metadata": {
        "colab": {
          "base_uri": "https://localhost:8080/"
        },
        "id": "Cv4hRLPpGw_5",
        "outputId": "274916cb-1413-4f31-e223-6550ab6a6c6a"
      },
      "outputs": [
        {
          "name": "stdout",
          "output_type": "stream",
          "text": [
            "+---------+--------+------------------+-----------+--------------+----------+----------+-------------+------------------+---------------+------------------------+\n",
            "|longitude|latitude|housing_median_age|total_rooms|total_bedrooms|population|households|median_income|median_house_value|ocean_proximity|numerical_feature_vector|\n",
            "+---------+--------+------------------+-----------+--------------+----------+----------+-------------+------------------+---------------+------------------------+\n",
            "|  -124.35|   40.54|              52.0|     1820.0|         300.0|     806.0|     270.0|       3.0147|           94600.0|     NEAR OCEAN|    [-124.35,40.54,52...|\n",
            "|   -124.3|    41.8|              19.0|     2672.0|         552.0|    1298.0|     478.0|       1.9797|           85800.0|     NEAR OCEAN|    [-124.3,41.8,19.0...|\n",
            "+---------+--------+------------------+-----------+--------------+----------+----------+-------------+------------------+---------------+------------------------+\n",
            "only showing top 2 rows\n",
            "\n"
          ]
        }
      ],
      "source": [
        "numerical_vector_assembler = VectorAssembler(inputCols=numerical_features_lst,\n",
        "                                             outputCol='numerical_feature_vector')\n",
        "\n",
        "train = numerical_vector_assembler.transform(train)\n",
        "test = numerical_vector_assembler.transform(test)\n",
        "\n",
        "train.show(2)"
      ]
    },
    {
      "cell_type": "code",
      "execution_count": null,
      "metadata": {
        "colab": {
          "base_uri": "https://localhost:8080/"
        },
        "id": "ScZDxAyEHoYc",
        "outputId": "74edb376-d054-4ebb-ed07-34a2a5139e11"
      },
      "outputs": [
        {
          "data": {
            "text/plain": [
              "[Row(numerical_feature_vector=DenseVector([-124.35, 40.54, 52.0, 1820.0, 300.0, 806.0, 270.0, 3.0147])),\n",
              " Row(numerical_feature_vector=DenseVector([-124.3, 41.8, 19.0, 2672.0, 552.0, 1298.0, 478.0, 1.9797]))]"
            ]
          },
          "execution_count": 13,
          "metadata": {},
          "output_type": "execute_result"
        }
      ],
      "source": [
        "train.select('numerical_feature_vector').take(2)"
      ]
    },
    {
      "cell_type": "markdown",
      "metadata": {
        "id": "qgA9BErKX3Op"
      },
      "source": [
        "Произведём масштабирование."
      ]
    },
    {
      "cell_type": "code",
      "execution_count": null,
      "metadata": {
        "colab": {
          "base_uri": "https://localhost:8080/"
        },
        "id": "X2pr4JESIgMU",
        "outputId": "f8e8aa6a-4284-4231-a21b-81db76d78bf7"
      },
      "outputs": [
        {
          "name": "stderr",
          "output_type": "stream",
          "text": [
            "                                                                                \r"
          ]
        },
        {
          "name": "stdout",
          "output_type": "stream",
          "text": [
            "+---------+--------+------------------+-----------+--------------+----------+----------+-------------+------------------+---------------+------------------------+-------------------------------+\n",
            "|longitude|latitude|housing_median_age|total_rooms|total_bedrooms|population|households|median_income|median_house_value|ocean_proximity|numerical_feature_vector|scaled_numerical_feature_vector|\n",
            "+---------+--------+------------------+-----------+--------------+----------+----------+-------------+------------------+---------------+------------------------+-------------------------------+\n",
            "|  -124.35|   40.54|              52.0|     1820.0|         300.0|     806.0|     270.0|       3.0147|           94600.0|     NEAR OCEAN|    [-124.35,40.54,52...|           [-2.3781831129522...|\n",
            "|   -124.3|    41.8|              19.0|     2672.0|         552.0|    1298.0|     478.0|       1.9797|           85800.0|     NEAR OCEAN|    [-124.3,41.8,19.0...|           [-2.3532518172339...|\n",
            "|   -124.3|   41.84|              17.0|     2677.0|         531.0|    1244.0|     456.0|       3.0313|          103600.0|     NEAR OCEAN|    [-124.3,41.84,17....|           [-2.3532518172339...|\n",
            "+---------+--------+------------------+-----------+--------------+----------+----------+-------------+------------------+---------------+------------------------+-------------------------------+\n",
            "only showing top 3 rows\n",
            "\n"
          ]
        }
      ],
      "source": [
        "scaler = StandardScaler(inputCol='numerical_feature_vector',\n",
        "                        outputCol='scaled_numerical_feature_vector',\n",
        "                        withStd=True, withMean=True)\n",
        "\n",
        "scaler = scaler.fit(train)\n",
        "\n",
        "train = scaler.transform(train)\n",
        "test = scaler.transform(test)\n",
        "\n",
        "train.show(3)"
      ]
    },
    {
      "cell_type": "code",
      "execution_count": null,
      "metadata": {
        "colab": {
          "base_uri": "https://localhost:8080/"
        },
        "id": "5QRcuaj8Jhd3",
        "outputId": "41c1cf32-3e50-46bd-d228-fad424427058"
      },
      "outputs": [
        {
          "data": {
            "text/plain": [
              "[Row(scaled_numerical_feature_vector=DenseVector([-2.3782, 2.2877, 1.8588, -0.372, -0.5663, -0.5398, -0.5965, -0.4484])),\n",
              " Row(scaled_numerical_feature_vector=DenseVector([-2.3533, 2.8762, -0.762, 0.0179, 0.0333, -0.1111, -0.0565, -0.9914])),\n",
              " Row(scaled_numerical_feature_vector=DenseVector([-2.3533, 2.8949, -0.9208, 0.0202, -0.0167, -0.1581, -0.1136, -0.4397]))]"
            ]
          },
          "execution_count": 15,
          "metadata": {},
          "output_type": "execute_result"
        }
      ],
      "source": [
        "train.select('scaled_numerical_feature_vector').take(3)"
      ]
    },
    {
      "cell_type": "markdown",
      "metadata": {
        "id": "AG4kfseJX3Op"
      },
      "source": [
        "Трансформация категорийных признаков"
      ]
    },
    {
      "cell_type": "code",
      "execution_count": null,
      "metadata": {
        "colab": {
          "base_uri": "https://localhost:8080/"
        },
        "id": "hJbkKIZAJqud",
        "outputId": "014c36ec-e08e-4cc3-d4aa-cfce728b7623"
      },
      "outputs": [
        {
          "name": "stderr",
          "output_type": "stream",
          "text": [
            "                                                                                \r"
          ]
        },
        {
          "name": "stdout",
          "output_type": "stream",
          "text": [
            "+---------+--------+------------------+-----------+--------------+----------+----------+-------------+------------------+---------------+------------------------+-------------------------------+--------------------+\n",
            "|longitude|latitude|housing_median_age|total_rooms|total_bedrooms|population|households|median_income|median_house_value|ocean_proximity|numerical_feature_vector|scaled_numerical_feature_vector|ocean_category_index|\n",
            "+---------+--------+------------------+-----------+--------------+----------+----------+-------------+------------------+---------------+------------------------+-------------------------------+--------------------+\n",
            "|  -124.35|   40.54|              52.0|     1820.0|         300.0|     806.0|     270.0|       3.0147|           94600.0|     NEAR OCEAN|    [-124.35,40.54,52...|           [-2.3781831129522...|                 2.0|\n",
            "|   -124.3|    41.8|              19.0|     2672.0|         552.0|    1298.0|     478.0|       1.9797|           85800.0|     NEAR OCEAN|    [-124.3,41.8,19.0...|           [-2.3532518172339...|                 2.0|\n",
            "|   -124.3|   41.84|              17.0|     2677.0|         531.0|    1244.0|     456.0|       3.0313|          103600.0|     NEAR OCEAN|    [-124.3,41.84,17....|           [-2.3532518172339...|                 2.0|\n",
            "+---------+--------+------------------+-----------+--------------+----------+----------+-------------+------------------+---------------+------------------------+-------------------------------+--------------------+\n",
            "only showing top 3 rows\n",
            "\n"
          ]
        }
      ],
      "source": [
        "indexer = StringIndexer(inputCol='ocean_proximity',\n",
        "                        outputCol='ocean_category_index')\n",
        "\n",
        "indexer = indexer.fit(train)\n",
        "train = indexer.transform(train)\n",
        "test = indexer.transform(test)\n",
        "\n",
        "train.show(3)"
      ]
    },
    {
      "cell_type": "code",
      "execution_count": null,
      "metadata": {
        "colab": {
          "base_uri": "https://localhost:8080/"
        },
        "id": "dtm9uolJKK_-",
        "outputId": "b13969ad-5079-471c-fd22-f61f8ac0660e"
      },
      "outputs": [
        {
          "data": {
            "text/plain": [
              "{Row(ocean_category_index=0.0),\n",
              " Row(ocean_category_index=1.0),\n",
              " Row(ocean_category_index=2.0),\n",
              " Row(ocean_category_index=3.0),\n",
              " Row(ocean_category_index=4.0)}"
            ]
          },
          "execution_count": 17,
          "metadata": {},
          "output_type": "execute_result"
        }
      ],
      "source": [
        "set(train.select('ocean_category_index').collect())"
      ]
    },
    {
      "cell_type": "markdown",
      "metadata": {
        "id": "cbwB14wpX3Op"
      },
      "source": [
        "Создаём OHE-кодирование."
      ]
    },
    {
      "cell_type": "code",
      "execution_count": null,
      "metadata": {
        "colab": {
          "base_uri": "https://localhost:8080/"
        },
        "id": "x53c7cDJKXo4",
        "outputId": "4ec3fef5-e070-4748-dd24-20e01bd1827d"
      },
      "outputs": [
        {
          "name": "stdout",
          "output_type": "stream",
          "text": [
            "+---------+--------+------------------+-----------+--------------+----------+----------+-------------+------------------+---------------+------------------------+-------------------------------+--------------------+----------------------+\n",
            "|longitude|latitude|housing_median_age|total_rooms|total_bedrooms|population|households|median_income|median_house_value|ocean_proximity|numerical_feature_vector|scaled_numerical_feature_vector|ocean_category_index|ocean_category_one_hot|\n",
            "+---------+--------+------------------+-----------+--------------+----------+----------+-------------+------------------+---------------+------------------------+-------------------------------+--------------------+----------------------+\n",
            "|  -124.35|   40.54|              52.0|     1820.0|         300.0|     806.0|     270.0|       3.0147|           94600.0|     NEAR OCEAN|    [-124.35,40.54,52...|           [-2.3781831129522...|                 2.0|         (4,[2],[1.0])|\n",
            "|   -124.3|    41.8|              19.0|     2672.0|         552.0|    1298.0|     478.0|       1.9797|           85800.0|     NEAR OCEAN|    [-124.3,41.8,19.0...|           [-2.3532518172339...|                 2.0|         (4,[2],[1.0])|\n",
            "|   -124.3|   41.84|              17.0|     2677.0|         531.0|    1244.0|     456.0|       3.0313|          103600.0|     NEAR OCEAN|    [-124.3,41.84,17....|           [-2.3532518172339...|                 2.0|         (4,[2],[1.0])|\n",
            "+---------+--------+------------------+-----------+--------------+----------+----------+-------------+------------------+---------------+------------------------+-------------------------------+--------------------+----------------------+\n",
            "only showing top 3 rows\n",
            "\n"
          ]
        }
      ],
      "source": [
        "one_hot_encoder = OneHotEncoder(inputCol='ocean_category_index',\n",
        "                                outputCol='ocean_category_one_hot')\n",
        "\n",
        "one_hot_encoder = one_hot_encoder.fit(train)\n",
        "\n",
        "train = one_hot_encoder.transform(train)\n",
        "test = one_hot_encoder.transform(test)\n",
        "\n",
        "train.show(3)"
      ]
    },
    {
      "cell_type": "code",
      "execution_count": null,
      "metadata": {
        "id": "5lEBIt0RX3Oq"
      },
      "outputs": [],
      "source": []
    },
    {
      "cell_type": "markdown",
      "metadata": {
        "id": "FJBfjUBxX3Oq"
      },
      "source": [
        "Финальный шаг преобразований — это объединение признаков в один вектор, с которым ML-алгоритм умеет работать."
      ]
    },
    {
      "cell_type": "code",
      "execution_count": null,
      "metadata": {
        "id": "DcGu4nVvKyC2"
      },
      "outputs": [],
      "source": [
        "assembler = VectorAssembler(inputCols=['scaled_numerical_feature_vector',\n",
        "                                       'ocean_category_one_hot'],\n",
        "                            outputCol='final_feature_vector')\n",
        "\n",
        "train = assembler.transform(train)\n",
        "test = assembler.transform(test)"
      ]
    },
    {
      "cell_type": "code",
      "execution_count": null,
      "metadata": {
        "colab": {
          "base_uri": "https://localhost:8080/"
        },
        "id": "X820BpH7Ld2V",
        "outputId": "fc5010c9-1b93-4cf1-a9e4-e11178bdbb32"
      },
      "outputs": [
        {
          "name": "stdout",
          "output_type": "stream",
          "text": [
            "+---------+--------+------------------+-----------+--------------+----------+----------+-------------+------------------+---------------+------------------------+-------------------------------+--------------------+----------------------+--------------------+\n",
            "|longitude|latitude|housing_median_age|total_rooms|total_bedrooms|population|households|median_income|median_house_value|ocean_proximity|numerical_feature_vector|scaled_numerical_feature_vector|ocean_category_index|ocean_category_one_hot|final_feature_vector|\n",
            "+---------+--------+------------------+-----------+--------------+----------+----------+-------------+------------------+---------------+------------------------+-------------------------------+--------------------+----------------------+--------------------+\n",
            "|  -124.35|   40.54|              52.0|     1820.0|         300.0|     806.0|     270.0|       3.0147|           94600.0|     NEAR OCEAN|    [-124.35,40.54,52...|           [-2.3781831129522...|                 2.0|         (4,[2],[1.0])|[-2.3781831129522...|\n",
            "|   -124.3|    41.8|              19.0|     2672.0|         552.0|    1298.0|     478.0|       1.9797|           85800.0|     NEAR OCEAN|    [-124.3,41.8,19.0...|           [-2.3532518172339...|                 2.0|         (4,[2],[1.0])|[-2.3532518172339...|\n",
            "+---------+--------+------------------+-----------+--------------+----------+----------+-------------+------------------+---------------+------------------------+-------------------------------+--------------------+----------------------+--------------------+\n",
            "only showing top 2 rows\n",
            "\n"
          ]
        }
      ],
      "source": [
        "train.show(2)"
      ]
    },
    {
      "cell_type": "code",
      "execution_count": null,
      "metadata": {
        "colab": {
          "base_uri": "https://localhost:8080/"
        },
        "id": "xe9f0T9iLfH7",
        "outputId": "e06ede11-a4be-45d3-d405-46a9edc410b6"
      },
      "outputs": [
        {
          "data": {
            "text/plain": [
              "[Row(final_feature_vector=DenseVector([-2.3782, 2.2877, 1.8588, -0.372, -0.5663, -0.5398, -0.5965, -0.4484, 0.0, 0.0, 1.0, 0.0])),\n",
              " Row(final_feature_vector=DenseVector([-2.3533, 2.8762, -0.762, 0.0179, 0.0333, -0.1111, -0.0565, -0.9914, 0.0, 0.0, 1.0, 0.0]))]"
            ]
          },
          "execution_count": 21,
          "metadata": {},
          "output_type": "execute_result"
        }
      ],
      "source": [
        "train.select('final_feature_vector').take(2)"
      ]
    },
    {
      "cell_type": "markdown",
      "metadata": {
        "id": "E_r4AWKpX3Oq"
      },
      "source": [
        "# Обучение моделей"
      ]
    },
    {
      "cell_type": "code",
      "execution_count": null,
      "metadata": {
        "colab": {
          "base_uri": "https://localhost:8080/"
        },
        "id": "b3dXB7opLp4_",
        "outputId": "ba09257b-4ce1-4eb2-b6b5-13b2a8138f63"
      },
      "outputs": [
        {
          "data": {
            "text/plain": [
              "LinearRegression_aa56e18332b6"
            ]
          },
          "execution_count": 22,
          "metadata": {},
          "output_type": "execute_result"
        }
      ],
      "source": [
        "lr = LinearRegression(featuresCol='final_feature_vector',\n",
        "                      labelCol='median_house_value')\n",
        "\n",
        "lr"
      ]
    },
    {
      "cell_type": "code",
      "execution_count": null,
      "metadata": {
        "colab": {
          "base_uri": "https://localhost:8080/"
        },
        "id": "84pkIiegMTrh",
        "outputId": "4b50546f-514b-40aa-c315-a8be4018e1a9"
      },
      "outputs": [
        {
          "name": "stderr",
          "output_type": "stream",
          "text": [
            "23/08/17 19:42:07 WARN Instrumentation: [cd8788d2] regParam is zero, which might cause numerical instability and overfitting.\n",
            "23/08/17 19:42:08 WARN BLAS: Failed to load implementation from: com.github.fommil.netlib.NativeSystemBLAS\n",
            "23/08/17 19:42:08 WARN BLAS: Failed to load implementation from: com.github.fommil.netlib.NativeRefBLAS\n",
            "23/08/17 19:42:08 WARN LAPACK: Failed to load implementation from: com.github.fommil.netlib.NativeSystemLAPACK\n",
            "23/08/17 19:42:08 WARN LAPACK: Failed to load implementation from: com.github.fommil.netlib.NativeRefLAPACK\n",
            "                                                                                \r"
          ]
        },
        {
          "data": {
            "text/plain": [
              "LinearRegressionModel: uid=LinearRegression_aa56e18332b6, numFeatures=12"
            ]
          },
          "execution_count": 23,
          "metadata": {},
          "output_type": "execute_result"
        }
      ],
      "source": [
        "lr = lr.fit(train)\n",
        "\n",
        "lr"
      ]
    },
    {
      "cell_type": "code",
      "execution_count": null,
      "metadata": {
        "colab": {
          "base_uri": "https://localhost:8080/"
        },
        "id": "R2yJe24jMfST",
        "outputId": "2aa4e4a6-3ce7-447b-9e0f-745d945c2f16"
      },
      "outputs": [
        {
          "name": "stdout",
          "output_type": "stream",
          "text": [
            "+---------+--------+------------------+-----------+--------------+----------+----------+-------------+------------------+---------------+------------------------+-------------------------------+--------------------+----------------------+--------------------+----------------------------+\n",
            "|longitude|latitude|housing_median_age|total_rooms|total_bedrooms|population|households|median_income|median_house_value|ocean_proximity|numerical_feature_vector|scaled_numerical_feature_vector|ocean_category_index|ocean_category_one_hot|final_feature_vector|predicted_median_house_value|\n",
            "+---------+--------+------------------+-----------+--------------+----------+----------+-------------+------------------+---------------+------------------------+-------------------------------+--------------------+----------------------+--------------------+----------------------------+\n",
            "|  -124.35|   40.54|              52.0|     1820.0|         300.0|     806.0|     270.0|       3.0147|           94600.0|     NEAR OCEAN|    [-124.35,40.54,52...|           [-2.3781831129522...|                 2.0|         (4,[2],[1.0])|[-2.3781831129522...|           210897.5064421771|\n",
            "|   -124.3|    41.8|              19.0|     2672.0|         552.0|    1298.0|     478.0|       1.9797|           85800.0|     NEAR OCEAN|    [-124.3,41.8,19.0...|           [-2.3532518172339...|                 2.0|         (4,[2],[1.0])|[-2.3532518172339...|          114288.87742774445|\n",
            "|   -124.3|   41.84|              17.0|     2677.0|         531.0|    1244.0|     456.0|       3.0313|          103600.0|     NEAR OCEAN|    [-124.3,41.84,17....|           [-2.3532518172339...|                 2.0|         (4,[2],[1.0])|[-2.3532518172339...|           150466.8545126035|\n",
            "|  -124.27|   40.69|              36.0|     2349.0|         528.0|    1194.0|     465.0|       2.5179|           79000.0|     NEAR OCEAN|    [-124.27,40.69,36...|           [-2.3382930398029...|                 2.0|         (4,[2],[1.0])|[-2.3382930398029...|          183296.95022224507|\n",
            "|  -124.26|   40.58|              52.0|     2217.0|         394.0|     907.0|     369.0|       2.3571|          111400.0|     NEAR OCEAN|    [-124.26,40.58,52...|           [-2.3333067806592...|                 2.0|         (4,[2],[1.0])|[-2.3333067806592...|          190609.74146949133|\n",
            "+---------+--------+------------------+-----------+--------------+----------+----------+-------------+------------------+---------------+------------------------+-------------------------------+--------------------+----------------------+--------------------+----------------------------+\n",
            "only showing top 5 rows\n",
            "\n"
          ]
        }
      ],
      "source": [
        "pred_train_df = lr.transform(train).withColumnRenamed('prediction',\n",
        "                                                      'predicted_median_house_value')\n",
        "\n",
        "pred_train_df.show(5)"
      ]
    },
    {
      "cell_type": "code",
      "execution_count": null,
      "metadata": {
        "colab": {
          "base_uri": "https://localhost:8080/"
        },
        "id": "DwaLPbYsM1yI",
        "outputId": "4d3c4327-7386-42ac-dc21-377c2d9078f1"
      },
      "outputs": [
        {
          "name": "stdout",
          "output_type": "stream",
          "text": [
            "+---------+--------+------------------+-----------+--------------+----------+----------+-------------+------------------+---------------+------------------------+-------------------------------+--------------------+----------------------+--------------------+----------------------------+\n",
            "|longitude|latitude|housing_median_age|total_rooms|total_bedrooms|population|households|median_income|median_house_value|ocean_proximity|numerical_feature_vector|scaled_numerical_feature_vector|ocean_category_index|ocean_category_one_hot|final_feature_vector|predicted_median_house_value|\n",
            "+---------+--------+------------------+-----------+--------------+----------+----------+-------------+------------------+---------------+------------------------+-------------------------------+--------------------+----------------------+--------------------+----------------------------+\n",
            "|  -124.23|   40.54|              52.0|     2694.0|         453.0|    1152.0|     435.0|       3.0806|          106700.0|     NEAR OCEAN|    [-124.23,40.54,52...|           [-2.3183480032282...|                 2.0|         (4,[2],[1.0])|[-2.3183480032282...|           216087.6092550586|\n",
            "|  -124.17|   40.74|              17.0|     2026.0|         338.0|     873.0|     313.0|       4.0357|          128900.0|     NEAR OCEAN|    [-124.17,40.74,17...|           [-2.2884304483661...|                 2.0|         (4,[2],[1.0])|[-2.2884304483661...|          206922.95425412347|\n",
            "|  -124.17|   40.75|              13.0|     2171.0|         339.0|     951.0|     353.0|       4.8516|          116100.0|     NEAR OCEAN|    [-124.17,40.75,13...|           [-2.2884304483661...|                 2.0|         (4,[2],[1.0])|[-2.2884304483661...|          233227.54236812086|\n",
            "|  -124.17|   40.79|              43.0|     2285.0|         479.0|    1169.0|     482.0|       1.9688|           70500.0|     NEAR OCEAN|    [-124.17,40.79,43...|           [-2.2884304483661...|                 2.0|         (4,[2],[1.0])|[-2.2884304483661...|          162780.84857181238|\n",
            "|  -124.16|   40.77|              35.0|     2141.0|         438.0|    1053.0|     434.0|       2.8529|           85600.0|     NEAR OCEAN|    [-124.16,40.77,35...|           [-2.2834441892225...|                 2.0|         (4,[2],[1.0])|[-2.2834441892225...|          187478.17195286514|\n",
            "+---------+--------+------------------+-----------+--------------+----------+----------+-------------+------------------+---------------+------------------------+-------------------------------+--------------------+----------------------+--------------------+----------------------------+\n",
            "only showing top 5 rows\n",
            "\n"
          ]
        }
      ],
      "source": [
        "pred_test_df = lr.transform(test).withColumnRenamed('prediction', 'predicted_median_house_value')\n",
        "\n",
        "pred_test_df.show(5)"
      ]
    },
    {
      "cell_type": "code",
      "execution_count": null,
      "metadata": {
        "colab": {
          "base_uri": "https://localhost:8080/",
          "height": 246
        },
        "id": "DO19rLbsNKjs",
        "outputId": "294f75de-11ed-4cab-f2a4-0c7a7d31fcb9"
      },
      "outputs": [
        {
          "data": {
            "text/html": [
              "<div>\n",
              "<style scoped>\n",
              "    .dataframe tbody tr th:only-of-type {\n",
              "        vertical-align: middle;\n",
              "    }\n",
              "\n",
              "    .dataframe tbody tr th {\n",
              "        vertical-align: top;\n",
              "    }\n",
              "\n",
              "    .dataframe thead th {\n",
              "        text-align: right;\n",
              "    }\n",
              "</style>\n",
              "<table border=\"1\" class=\"dataframe\">\n",
              "  <thead>\n",
              "    <tr style=\"text-align: right;\">\n",
              "      <th></th>\n",
              "      <th>longitude</th>\n",
              "      <th>latitude</th>\n",
              "      <th>housing_median_age</th>\n",
              "      <th>total_rooms</th>\n",
              "      <th>total_bedrooms</th>\n",
              "      <th>population</th>\n",
              "      <th>households</th>\n",
              "      <th>median_income</th>\n",
              "      <th>median_house_value</th>\n",
              "      <th>ocean_proximity</th>\n",
              "      <th>numerical_feature_vector</th>\n",
              "      <th>scaled_numerical_feature_vector</th>\n",
              "      <th>ocean_category_index</th>\n",
              "      <th>ocean_category_one_hot</th>\n",
              "      <th>final_feature_vector</th>\n",
              "      <th>predicted_median_house_value</th>\n",
              "    </tr>\n",
              "  </thead>\n",
              "  <tbody>\n",
              "    <tr>\n",
              "      <th>0</th>\n",
              "      <td>-124.23</td>\n",
              "      <td>40.54</td>\n",
              "      <td>52.0</td>\n",
              "      <td>2694.0</td>\n",
              "      <td>453.0</td>\n",
              "      <td>1152.0</td>\n",
              "      <td>435.0</td>\n",
              "      <td>3.0806</td>\n",
              "      <td>106700.0</td>\n",
              "      <td>NEAR OCEAN</td>\n",
              "      <td>[-124.23, 40.54, 52.0, 2694.0, 453.0, 1152.0, ...</td>\n",
              "      <td>[-2.318348003228216, 2.2877440736757158, 1.858...</td>\n",
              "      <td>2.0</td>\n",
              "      <td>(0.0, 0.0, 1.0, 0.0)</td>\n",
              "      <td>[-2.318348003228216, 2.2877440736757158, 1.858...</td>\n",
              "      <td>216087.609255</td>\n",
              "    </tr>\n",
              "    <tr>\n",
              "      <th>1</th>\n",
              "      <td>-124.17</td>\n",
              "      <td>40.74</td>\n",
              "      <td>17.0</td>\n",
              "      <td>2026.0</td>\n",
              "      <td>338.0</td>\n",
              "      <td>873.0</td>\n",
              "      <td>313.0</td>\n",
              "      <td>4.0357</td>\n",
              "      <td>128900.0</td>\n",
              "      <td>NEAR OCEAN</td>\n",
              "      <td>[-124.17, 40.74, 17.0, 2026.0, 338.0, 873.0, 3...</td>\n",
              "      <td>[-2.288430448366182, 2.381153032740358, -0.920...</td>\n",
              "      <td>2.0</td>\n",
              "      <td>(0.0, 0.0, 1.0, 0.0)</td>\n",
              "      <td>[-2.288430448366182, 2.381153032740358, -0.920...</td>\n",
              "      <td>206922.954254</td>\n",
              "    </tr>\n",
              "  </tbody>\n",
              "</table>\n",
              "</div>"
            ],
            "text/plain": [
              "   longitude  latitude  housing_median_age  total_rooms  total_bedrooms  \\\n",
              "0    -124.23     40.54                52.0       2694.0           453.0   \n",
              "1    -124.17     40.74                17.0       2026.0           338.0   \n",
              "\n",
              "   population  households  median_income  median_house_value ocean_proximity  \\\n",
              "0      1152.0       435.0         3.0806            106700.0      NEAR OCEAN   \n",
              "1       873.0       313.0         4.0357            128900.0      NEAR OCEAN   \n",
              "\n",
              "                            numerical_feature_vector  \\\n",
              "0  [-124.23, 40.54, 52.0, 2694.0, 453.0, 1152.0, ...   \n",
              "1  [-124.17, 40.74, 17.0, 2026.0, 338.0, 873.0, 3...   \n",
              "\n",
              "                     scaled_numerical_feature_vector  ocean_category_index  \\\n",
              "0  [-2.318348003228216, 2.2877440736757158, 1.858...                   2.0   \n",
              "1  [-2.288430448366182, 2.381153032740358, -0.920...                   2.0   \n",
              "\n",
              "  ocean_category_one_hot                               final_feature_vector  \\\n",
              "0   (0.0, 0.0, 1.0, 0.0)  [-2.318348003228216, 2.2877440736757158, 1.858...   \n",
              "1   (0.0, 0.0, 1.0, 0.0)  [-2.288430448366182, 2.381153032740358, -0.920...   \n",
              "\n",
              "   predicted_median_house_value  \n",
              "0                 216087.609255  \n",
              "1                 206922.954254  "
            ]
          },
          "execution_count": 26,
          "metadata": {},
          "output_type": "execute_result"
        }
      ],
      "source": [
        "pred_test_pd_df = pred_test_df.toPandas()\n",
        "\n",
        "pred_test_pd_df.head(2)"
      ]
    },
    {
      "cell_type": "code",
      "execution_count": null,
      "metadata": {
        "colab": {
          "base_uri": "https://localhost:8080/"
        },
        "id": "LpCXSIABNc_X",
        "outputId": "71e84f2c-74f8-4a15-a1a0-e96c8c7ec70e"
      },
      "outputs": [
        {
          "name": "stderr",
          "output_type": "stream",
          "text": [
            "                                                                                \r"
          ]
        },
        {
          "data": {
            "text/plain": [
              "[Row(predicted_median_house_value=216087.6092550586, median_house_value=106700.0),\n",
              " Row(predicted_median_house_value=206922.95425412347, median_house_value=128900.0)]"
            ]
          },
          "execution_count": 27,
          "metadata": {},
          "output_type": "execute_result"
        }
      ],
      "source": [
        "predictions_and_actuals = pred_test_df[['predicted_median_house_value',\n",
        "                                        'median_house_value']]\n",
        "\n",
        "predictions_and_actuals_rdd = predictions_and_actuals.rdd\n",
        "\n",
        "predictions_and_actuals_rdd.take(2)"
      ]
    },
    {
      "cell_type": "code",
      "execution_count": null,
      "metadata": {
        "colab": {
          "base_uri": "https://localhost:8080/"
        },
        "id": "Okh7NLmoN65G",
        "outputId": "ac8aee50-873b-42af-d837-4660c50ca1b3"
      },
      "outputs": [
        {
          "data": {
            "text/plain": [
              "[(216087.6092550586, 106700.0), (206922.95425412347, 128900.0)]"
            ]
          },
          "execution_count": 28,
          "metadata": {},
          "output_type": "execute_result"
        }
      ],
      "source": [
        "predictions_and_actuals_rdd = predictions_and_actuals_rdd.map(tuple)\n",
        "\n",
        "predictions_and_actuals_rdd.take(2)"
      ]
    },
    {
      "cell_type": "markdown",
      "metadata": {
        "id": "Sln3dmCIX3Oy"
      },
      "source": [
        "Оценка качества"
      ]
    },
    {
      "cell_type": "code",
      "execution_count": null,
      "metadata": {
        "colab": {
          "base_uri": "https://localhost:8080/"
        },
        "id": "7mq4WdN1OEil",
        "outputId": "1a7986bf-1ba7-4ec6-a247-6aab8167a4ca"
      },
      "outputs": [
        {
          "name": "stdout",
          "output_type": "stream",
          "text": [
            "\n",
            "MSE:                     4584996400.573722\n",
            "RMSE:                    67712.60149022279\n",
            "MAE:                     49090.75141949872\n",
            "R**2:                    0.6588164615835426\n",
            "\n"
          ]
        }
      ],
      "source": [
        "metrics = RegressionMetrics(predictions_and_actuals_rdd)\n",
        "\n",
        "s = '''\n",
        "MSE:                     {0}\n",
        "RMSE:                    {1}\n",
        "MAE:                     {2}\n",
        "R**2:                    {3}\n",
        "'''.format(metrics.meanSquaredError,\n",
        "           metrics.rootMeanSquaredError,\n",
        "           metrics.meanAbsoluteError,\n",
        "           metrics.r2\n",
        "           )\n",
        "\n",
        "print(s)"
      ]
    }
  ],
  "metadata": {
    "ExecuteTimeLog": [
      {
        "duration": 15417,
        "start_time": "2023-08-17T00:16:23.185Z"
      },
      {
        "duration": 346,
        "start_time": "2023-08-17T00:16:45.336Z"
      },
      {
        "duration": 8559,
        "start_time": "2023-08-17T00:17:54.707Z"
      },
      {
        "duration": 587,
        "start_time": "2023-08-17T00:18:38.078Z"
      },
      {
        "duration": 9,
        "start_time": "2023-08-17T00:19:14.397Z"
      },
      {
        "duration": 791,
        "start_time": "2023-08-17T00:19:21.280Z"
      },
      {
        "duration": 250,
        "start_time": "2023-08-17T00:19:24.012Z"
      },
      {
        "duration": 9,
        "start_time": "2023-08-17T00:20:34.238Z"
      },
      {
        "duration": 695,
        "start_time": "2023-08-17T00:20:34.888Z"
      },
      {
        "duration": 9,
        "start_time": "2023-08-17T00:21:35.384Z"
      },
      {
        "duration": 593,
        "start_time": "2023-08-17T00:21:37.303Z"
      },
      {
        "duration": 786,
        "start_time": "2023-08-17T00:22:56.798Z"
      },
      {
        "duration": 97,
        "start_time": "2023-08-17T00:26:17.265Z"
      },
      {
        "duration": 7,
        "start_time": "2023-08-17T00:26:20.472Z"
      },
      {
        "duration": 1280,
        "start_time": "2023-08-17T00:27:08.096Z"
      },
      {
        "duration": 6574,
        "start_time": "2023-08-17T00:27:10.398Z"
      },
      {
        "duration": 1490,
        "start_time": "2023-08-17T00:27:16.974Z"
      },
      {
        "duration": 136,
        "start_time": "2023-08-17T00:27:19.223Z"
      },
      {
        "duration": 19,
        "start_time": "2023-08-17T00:27:21.437Z"
      },
      {
        "duration": 7,
        "start_time": "2023-08-17T00:27:23.850Z"
      },
      {
        "duration": 15978,
        "start_time": "2023-08-17T00:28:11.488Z"
      },
      {
        "duration": 9119,
        "start_time": "2023-08-17T00:28:27.469Z"
      },
      {
        "duration": 672,
        "start_time": "2023-08-17T00:28:36.589Z"
      },
      {
        "duration": 1014,
        "start_time": "2023-08-17T00:28:37.263Z"
      },
      {
        "duration": 1505,
        "start_time": "2023-08-17T00:28:38.280Z"
      },
      {
        "duration": 6901,
        "start_time": "2023-08-17T00:28:39.787Z"
      },
      {
        "duration": 1676,
        "start_time": "2023-08-17T00:28:46.690Z"
      },
      {
        "duration": 290,
        "start_time": "2023-08-17T00:28:48.368Z"
      },
      {
        "duration": 30,
        "start_time": "2023-08-17T00:28:48.660Z"
      },
      {
        "duration": 66,
        "start_time": "2023-08-17T00:28:48.692Z"
      },
      {
        "duration": 2829,
        "start_time": "2023-08-17T00:28:48.760Z"
      },
      {
        "duration": 1100,
        "start_time": "2023-08-17T00:28:51.657Z"
      },
      {
        "duration": 525,
        "start_time": "2023-08-17T00:28:52.759Z"
      },
      {
        "duration": 1697,
        "start_time": "2023-08-17T00:28:53.290Z"
      },
      {
        "duration": 493,
        "start_time": "2023-08-17T00:28:54.989Z"
      },
      {
        "duration": 1975,
        "start_time": "2023-08-17T00:28:55.484Z"
      },
      {
        "duration": 496,
        "start_time": "2023-08-17T00:28:57.461Z"
      },
      {
        "duration": 731,
        "start_time": "2023-08-17T00:28:57.959Z"
      },
      {
        "duration": 103,
        "start_time": "2023-08-17T00:28:58.691Z"
      },
      {
        "duration": 600,
        "start_time": "2023-08-17T00:28:58.796Z"
      },
      {
        "duration": 509,
        "start_time": "2023-08-17T00:28:59.457Z"
      },
      {
        "duration": 108,
        "start_time": "2023-08-17T00:28:59.967Z"
      },
      {
        "duration": 3192,
        "start_time": "2023-08-17T00:29:00.077Z"
      },
      {
        "duration": 709,
        "start_time": "2023-08-17T00:29:03.270Z"
      },
      {
        "duration": 611,
        "start_time": "2023-08-17T00:29:03.980Z"
      },
      {
        "duration": 1964,
        "start_time": "2023-08-17T00:29:04.593Z"
      },
      {
        "duration": 611,
        "start_time": "2023-08-17T00:29:06.559Z"
      },
      {
        "duration": 389,
        "start_time": "2023-08-17T00:29:07.172Z"
      },
      {
        "duration": 1095,
        "start_time": "2023-08-17T00:29:07.563Z"
      },
      {
        "duration": 10,
        "start_time": "2023-08-17T00:36:47.553Z"
      },
      {
        "duration": 446,
        "start_time": "2023-08-17T00:36:48.645Z"
      },
      {
        "duration": 145,
        "start_time": "2023-08-17T00:36:50.715Z"
      },
      {
        "duration": 366,
        "start_time": "2023-08-17T00:37:07.650Z"
      },
      {
        "duration": 473,
        "start_time": "2023-08-17T00:37:20.270Z"
      },
      {
        "duration": 8,
        "start_time": "2023-08-17T00:37:28.213Z"
      },
      {
        "duration": 506,
        "start_time": "2023-08-17T00:37:29.154Z"
      },
      {
        "duration": 143,
        "start_time": "2023-08-17T00:37:30.320Z"
      },
      {
        "duration": 343,
        "start_time": "2023-08-17T00:37:31.336Z"
      },
      {
        "duration": 15696,
        "start_time": "2023-08-17T00:38:04.090Z"
      },
      {
        "duration": 9070,
        "start_time": "2023-08-17T00:38:19.788Z"
      },
      {
        "duration": 811,
        "start_time": "2023-08-17T00:38:28.860Z"
      },
      {
        "duration": 1588,
        "start_time": "2023-08-17T00:38:29.673Z"
      },
      {
        "duration": 95,
        "start_time": "2023-08-17T00:38:31.264Z"
      },
      {
        "duration": 4,
        "start_time": "2023-08-17T00:38:31.361Z"
      },
      {
        "duration": 4508,
        "start_time": "2023-08-17T00:38:31.367Z"
      },
      {
        "duration": 1407,
        "start_time": "2023-08-17T00:38:35.877Z"
      },
      {
        "duration": 673,
        "start_time": "2023-08-17T00:38:37.286Z"
      },
      {
        "duration": 1926,
        "start_time": "2023-08-17T00:38:37.962Z"
      },
      {
        "duration": 482,
        "start_time": "2023-08-17T00:38:39.890Z"
      },
      {
        "duration": 2002,
        "start_time": "2023-08-17T00:38:40.374Z"
      },
      {
        "duration": 513,
        "start_time": "2023-08-17T00:38:42.377Z"
      },
      {
        "duration": 880,
        "start_time": "2023-08-17T00:38:42.893Z"
      },
      {
        "duration": 109,
        "start_time": "2023-08-17T00:38:43.776Z"
      },
      {
        "duration": 668,
        "start_time": "2023-08-17T00:38:43.888Z"
      },
      {
        "duration": 500,
        "start_time": "2023-08-17T00:38:44.558Z"
      },
      {
        "duration": 38,
        "start_time": "2023-08-17T00:38:45.060Z"
      },
      {
        "duration": 2975,
        "start_time": "2023-08-17T00:38:45.100Z"
      },
      {
        "duration": 712,
        "start_time": "2023-08-17T00:38:48.077Z"
      },
      {
        "duration": 692,
        "start_time": "2023-08-17T00:38:48.791Z"
      },
      {
        "duration": 1713,
        "start_time": "2023-08-17T00:38:49.485Z"
      },
      {
        "duration": 1271,
        "start_time": "2023-08-17T00:38:51.200Z"
      },
      {
        "duration": 296,
        "start_time": "2023-08-17T00:38:52.473Z"
      },
      {
        "duration": 1002,
        "start_time": "2023-08-17T00:38:52.771Z"
      },
      {
        "duration": 14,
        "start_time": "2023-08-17T00:41:03.663Z"
      },
      {
        "duration": 8,
        "start_time": "2023-08-17T00:41:28.530Z"
      },
      {
        "duration": 190,
        "start_time": "2023-08-17T00:41:59.174Z"
      },
      {
        "duration": 1807,
        "start_time": "2023-08-17T00:42:21.797Z"
      },
      {
        "duration": 16037,
        "start_time": "2023-08-17T00:47:26.538Z"
      },
      {
        "duration": 8911,
        "start_time": "2023-08-17T00:47:42.577Z"
      },
      {
        "duration": 773,
        "start_time": "2023-08-17T00:47:51.490Z"
      },
      {
        "duration": 1402,
        "start_time": "2023-08-17T00:47:52.265Z"
      },
      {
        "duration": 14,
        "start_time": "2023-08-17T00:47:53.670Z"
      },
      {
        "duration": 18,
        "start_time": "2023-08-17T00:47:53.686Z"
      },
      {
        "duration": 500,
        "start_time": "2023-08-17T00:47:53.757Z"
      },
      {
        "duration": 3697,
        "start_time": "2023-08-17T00:47:54.260Z"
      },
      {
        "duration": 31,
        "start_time": "2023-08-17T00:47:57.959Z"
      },
      {
        "duration": 5,
        "start_time": "2023-08-17T00:47:58.056Z"
      },
      {
        "duration": 3704,
        "start_time": "2023-08-17T00:47:58.063Z"
      },
      {
        "duration": 1300,
        "start_time": "2023-08-17T00:48:01.769Z"
      },
      {
        "duration": 590,
        "start_time": "2023-08-17T00:48:03.072Z"
      },
      {
        "duration": 1713,
        "start_time": "2023-08-17T00:48:03.668Z"
      },
      {
        "duration": 498,
        "start_time": "2023-08-17T00:48:05.382Z"
      },
      {
        "duration": 2400,
        "start_time": "2023-08-17T00:48:05.882Z"
      },
      {
        "duration": 491,
        "start_time": "2023-08-17T00:48:08.284Z"
      },
      {
        "duration": 813,
        "start_time": "2023-08-17T00:48:08.777Z"
      },
      {
        "duration": 95,
        "start_time": "2023-08-17T00:48:09.592Z"
      },
      {
        "duration": 610,
        "start_time": "2023-08-17T00:48:09.689Z"
      },
      {
        "duration": 430,
        "start_time": "2023-08-17T00:48:10.357Z"
      },
      {
        "duration": 103,
        "start_time": "2023-08-17T00:48:10.789Z"
      },
      {
        "duration": 2870,
        "start_time": "2023-08-17T00:48:10.894Z"
      },
      {
        "duration": 710,
        "start_time": "2023-08-17T00:48:13.767Z"
      },
      {
        "duration": 614,
        "start_time": "2023-08-17T00:48:14.480Z"
      },
      {
        "duration": 2022,
        "start_time": "2023-08-17T00:48:15.096Z"
      },
      {
        "duration": 1955,
        "start_time": "2023-08-17T00:48:17.120Z"
      },
      {
        "duration": 318,
        "start_time": "2023-08-17T00:48:19.078Z"
      },
      {
        "duration": 1109,
        "start_time": "2023-08-17T00:48:19.457Z"
      },
      {
        "duration": 5,
        "start_time": "2023-08-17T00:56:35.824Z"
      },
      {
        "duration": 196,
        "start_time": "2023-08-17T01:01:20.739Z"
      },
      {
        "duration": 15674,
        "start_time": "2023-08-17T01:01:38.316Z"
      },
      {
        "duration": 8987,
        "start_time": "2023-08-17T01:01:53.992Z"
      },
      {
        "duration": 803,
        "start_time": "2023-08-17T01:02:02.983Z"
      },
      {
        "duration": 1332,
        "start_time": "2023-08-17T01:02:03.856Z"
      },
      {
        "duration": 67,
        "start_time": "2023-08-17T01:02:05.191Z"
      },
      {
        "duration": 8,
        "start_time": "2023-08-17T01:02:05.260Z"
      },
      {
        "duration": 401,
        "start_time": "2023-08-17T01:02:05.269Z"
      },
      {
        "duration": 3908,
        "start_time": "2023-08-17T01:02:05.671Z"
      },
      {
        "duration": 37,
        "start_time": "2023-08-17T01:02:09.658Z"
      },
      {
        "duration": 3,
        "start_time": "2023-08-17T01:02:09.758Z"
      },
      {
        "duration": 3522,
        "start_time": "2023-08-17T01:02:09.763Z"
      },
      {
        "duration": 1481,
        "start_time": "2023-08-17T01:02:13.287Z"
      },
      {
        "duration": 492,
        "start_time": "2023-08-17T01:02:14.772Z"
      },
      {
        "duration": 1622,
        "start_time": "2023-08-17T01:02:15.266Z"
      },
      {
        "duration": 499,
        "start_time": "2023-08-17T01:02:16.889Z"
      },
      {
        "duration": 2303,
        "start_time": "2023-08-17T01:02:17.390Z"
      },
      {
        "duration": 429,
        "start_time": "2023-08-17T01:02:19.758Z"
      },
      {
        "duration": 805,
        "start_time": "2023-08-17T01:02:20.189Z"
      },
      {
        "duration": 100,
        "start_time": "2023-08-17T01:02:21.057Z"
      },
      {
        "duration": 602,
        "start_time": "2023-08-17T01:02:21.159Z"
      },
      {
        "duration": 508,
        "start_time": "2023-08-17T01:02:21.764Z"
      },
      {
        "duration": 105,
        "start_time": "2023-08-17T01:02:22.274Z"
      },
      {
        "duration": 2994,
        "start_time": "2023-08-17T01:02:22.380Z"
      },
      {
        "duration": 606,
        "start_time": "2023-08-17T01:02:25.375Z"
      },
      {
        "duration": 581,
        "start_time": "2023-08-17T01:02:25.983Z"
      },
      {
        "duration": 2109,
        "start_time": "2023-08-17T01:02:26.565Z"
      },
      {
        "duration": 1402,
        "start_time": "2023-08-17T01:02:28.676Z"
      },
      {
        "duration": 291,
        "start_time": "2023-08-17T01:02:30.080Z"
      },
      {
        "duration": 1092,
        "start_time": "2023-08-17T01:02:30.373Z"
      },
      {
        "duration": 10,
        "start_time": "2023-08-17T01:32:50.702Z"
      },
      {
        "duration": 74,
        "start_time": "2023-08-17T01:33:33.482Z"
      },
      {
        "duration": 159,
        "start_time": "2023-08-17T01:33:43.031Z"
      },
      {
        "duration": 11,
        "start_time": "2023-08-17T01:35:14.367Z"
      },
      {
        "duration": 14901,
        "start_time": "2023-08-17T11:20:42.194Z"
      },
      {
        "duration": 7551,
        "start_time": "2023-08-17T11:20:57.150Z"
      },
      {
        "duration": 702,
        "start_time": "2023-08-17T11:21:04.753Z"
      },
      {
        "duration": 1599,
        "start_time": "2023-08-17T11:21:05.457Z"
      },
      {
        "duration": 12,
        "start_time": "2023-08-17T11:21:07.058Z"
      },
      {
        "duration": 7,
        "start_time": "2023-08-17T11:21:07.072Z"
      },
      {
        "duration": 435,
        "start_time": "2023-08-17T11:21:07.081Z"
      },
      {
        "duration": 3356,
        "start_time": "2023-08-17T11:21:07.518Z"
      },
      {
        "duration": 86,
        "start_time": "2023-08-17T11:21:10.876Z"
      },
      {
        "duration": 4,
        "start_time": "2023-08-17T11:21:10.964Z"
      },
      {
        "duration": 3079,
        "start_time": "2023-08-17T11:21:10.970Z"
      },
      {
        "duration": 1399,
        "start_time": "2023-08-17T11:21:14.051Z"
      },
      {
        "duration": 507,
        "start_time": "2023-08-17T11:21:15.453Z"
      },
      {
        "duration": 1832,
        "start_time": "2023-08-17T11:21:15.962Z"
      },
      {
        "duration": 449,
        "start_time": "2023-08-17T11:21:17.850Z"
      },
      {
        "duration": 1864,
        "start_time": "2023-08-17T11:21:18.300Z"
      },
      {
        "duration": 498,
        "start_time": "2023-08-17T11:21:20.166Z"
      },
      {
        "duration": 654,
        "start_time": "2023-08-17T11:21:20.666Z"
      },
      {
        "duration": 55,
        "start_time": "2023-08-17T11:21:21.322Z"
      },
      {
        "duration": 583,
        "start_time": "2023-08-17T11:21:21.378Z"
      },
      {
        "duration": 416,
        "start_time": "2023-08-17T11:21:21.962Z"
      },
      {
        "duration": 107,
        "start_time": "2023-08-17T11:21:22.379Z"
      },
      {
        "duration": 2780,
        "start_time": "2023-08-17T11:21:22.488Z"
      },
      {
        "duration": 702,
        "start_time": "2023-08-17T11:21:25.270Z"
      },
      {
        "duration": 684,
        "start_time": "2023-08-17T11:21:25.974Z"
      },
      {
        "duration": 1273,
        "start_time": "2023-08-17T11:21:26.660Z"
      },
      {
        "duration": 1220,
        "start_time": "2023-08-17T11:21:27.934Z"
      },
      {
        "duration": 302,
        "start_time": "2023-08-17T11:21:29.156Z"
      },
      {
        "duration": 914,
        "start_time": "2023-08-17T11:21:29.459Z"
      },
      {
        "duration": 15157,
        "start_time": "2023-08-17T11:33:45.132Z"
      },
      {
        "duration": 8332,
        "start_time": "2023-08-17T11:34:00.349Z"
      },
      {
        "duration": 700,
        "start_time": "2023-08-17T11:34:08.682Z"
      },
      {
        "duration": 1700,
        "start_time": "2023-08-17T11:34:09.384Z"
      },
      {
        "duration": 68,
        "start_time": "2023-08-17T11:34:11.087Z"
      },
      {
        "duration": 8,
        "start_time": "2023-08-17T11:34:11.156Z"
      },
      {
        "duration": 131,
        "start_time": "2023-08-17T11:34:11.165Z"
      },
      {
        "duration": 0,
        "start_time": "2023-08-17T11:34:11.350Z"
      },
      {
        "duration": 0,
        "start_time": "2023-08-17T11:34:11.352Z"
      },
      {
        "duration": 0,
        "start_time": "2023-08-17T11:34:11.353Z"
      },
      {
        "duration": 0,
        "start_time": "2023-08-17T11:34:11.354Z"
      },
      {
        "duration": 0,
        "start_time": "2023-08-17T11:34:11.355Z"
      },
      {
        "duration": 0,
        "start_time": "2023-08-17T11:34:11.356Z"
      },
      {
        "duration": 0,
        "start_time": "2023-08-17T11:34:11.357Z"
      },
      {
        "duration": 0,
        "start_time": "2023-08-17T11:34:11.358Z"
      },
      {
        "duration": 0,
        "start_time": "2023-08-17T11:34:11.359Z"
      },
      {
        "duration": 0,
        "start_time": "2023-08-17T11:34:11.360Z"
      },
      {
        "duration": 0,
        "start_time": "2023-08-17T11:34:11.361Z"
      },
      {
        "duration": 0,
        "start_time": "2023-08-17T11:34:11.362Z"
      },
      {
        "duration": 0,
        "start_time": "2023-08-17T11:34:11.363Z"
      },
      {
        "duration": 0,
        "start_time": "2023-08-17T11:34:11.364Z"
      },
      {
        "duration": 0,
        "start_time": "2023-08-17T11:34:11.365Z"
      },
      {
        "duration": 0,
        "start_time": "2023-08-17T11:34:11.366Z"
      },
      {
        "duration": 0,
        "start_time": "2023-08-17T11:34:11.366Z"
      },
      {
        "duration": 0,
        "start_time": "2023-08-17T11:34:11.368Z"
      },
      {
        "duration": 0,
        "start_time": "2023-08-17T11:34:11.369Z"
      },
      {
        "duration": 0,
        "start_time": "2023-08-17T11:34:11.370Z"
      },
      {
        "duration": 0,
        "start_time": "2023-08-17T11:34:11.371Z"
      },
      {
        "duration": 0,
        "start_time": "2023-08-17T11:34:11.372Z"
      },
      {
        "duration": 8,
        "start_time": "2023-08-17T11:34:30.196Z"
      },
      {
        "duration": 21,
        "start_time": "2023-08-17T11:35:04.159Z"
      },
      {
        "duration": 14,
        "start_time": "2023-08-17T11:38:53.573Z"
      },
      {
        "duration": 15,
        "start_time": "2023-08-17T11:39:04.653Z"
      },
      {
        "duration": 15263,
        "start_time": "2023-08-17T11:42:28.905Z"
      },
      {
        "duration": 8088,
        "start_time": "2023-08-17T11:42:44.170Z"
      },
      {
        "duration": 712,
        "start_time": "2023-08-17T11:42:52.259Z"
      },
      {
        "duration": 1210,
        "start_time": "2023-08-17T11:42:52.974Z"
      },
      {
        "duration": 68,
        "start_time": "2023-08-17T11:42:54.186Z"
      },
      {
        "duration": 7,
        "start_time": "2023-08-17T11:42:54.256Z"
      },
      {
        "duration": 200,
        "start_time": "2023-08-17T11:42:54.264Z"
      },
      {
        "duration": 0,
        "start_time": "2023-08-17T11:42:54.467Z"
      },
      {
        "duration": 0,
        "start_time": "2023-08-17T11:42:54.469Z"
      },
      {
        "duration": 0,
        "start_time": "2023-08-17T11:42:54.470Z"
      },
      {
        "duration": 0,
        "start_time": "2023-08-17T11:42:54.471Z"
      },
      {
        "duration": 0,
        "start_time": "2023-08-17T11:42:54.473Z"
      },
      {
        "duration": 0,
        "start_time": "2023-08-17T11:42:54.474Z"
      },
      {
        "duration": 0,
        "start_time": "2023-08-17T11:42:54.475Z"
      },
      {
        "duration": 0,
        "start_time": "2023-08-17T11:42:54.477Z"
      },
      {
        "duration": 0,
        "start_time": "2023-08-17T11:42:54.477Z"
      },
      {
        "duration": 1,
        "start_time": "2023-08-17T11:42:54.478Z"
      },
      {
        "duration": 0,
        "start_time": "2023-08-17T11:42:54.480Z"
      },
      {
        "duration": 0,
        "start_time": "2023-08-17T11:42:54.481Z"
      },
      {
        "duration": 0,
        "start_time": "2023-08-17T11:42:54.482Z"
      },
      {
        "duration": 0,
        "start_time": "2023-08-17T11:42:54.483Z"
      },
      {
        "duration": 0,
        "start_time": "2023-08-17T11:42:54.550Z"
      },
      {
        "duration": 0,
        "start_time": "2023-08-17T11:42:54.551Z"
      },
      {
        "duration": 0,
        "start_time": "2023-08-17T11:42:54.552Z"
      },
      {
        "duration": 0,
        "start_time": "2023-08-17T11:42:54.553Z"
      },
      {
        "duration": 0,
        "start_time": "2023-08-17T11:42:54.554Z"
      },
      {
        "duration": 0,
        "start_time": "2023-08-17T11:42:54.555Z"
      },
      {
        "duration": 0,
        "start_time": "2023-08-17T11:42:54.556Z"
      },
      {
        "duration": 0,
        "start_time": "2023-08-17T11:42:54.557Z"
      },
      {
        "duration": 11,
        "start_time": "2023-08-17T11:51:19.896Z"
      },
      {
        "duration": 11,
        "start_time": "2023-08-17T11:51:25.834Z"
      },
      {
        "duration": 10,
        "start_time": "2023-08-17T11:51:48.013Z"
      },
      {
        "duration": 31,
        "start_time": "2023-08-17T11:51:51.181Z"
      },
      {
        "duration": 22,
        "start_time": "2023-08-17T11:51:58.832Z"
      },
      {
        "duration": 10,
        "start_time": "2023-08-17T11:52:08.606Z"
      },
      {
        "duration": 4,
        "start_time": "2023-08-17T11:53:05.484Z"
      },
      {
        "duration": 10,
        "start_time": "2023-08-17T11:54:01.739Z"
      },
      {
        "duration": 10,
        "start_time": "2023-08-17T11:54:09.032Z"
      },
      {
        "duration": 10,
        "start_time": "2023-08-17T11:54:43.548Z"
      },
      {
        "duration": 7,
        "start_time": "2023-08-17T11:54:53.906Z"
      },
      {
        "duration": 61,
        "start_time": "2023-08-17T11:55:07.764Z"
      },
      {
        "duration": 12,
        "start_time": "2023-08-17T11:55:15.998Z"
      },
      {
        "duration": 13,
        "start_time": "2023-08-17T11:57:20.530Z"
      },
      {
        "duration": 54,
        "start_time": "2023-08-17T14:39:51.394Z"
      },
      {
        "duration": 7,
        "start_time": "2023-08-17T14:44:10.544Z"
      },
      {
        "duration": 10,
        "start_time": "2023-08-17T14:48:59.327Z"
      },
      {
        "duration": 822,
        "start_time": "2023-08-17T14:49:01.140Z"
      },
      {
        "duration": 288,
        "start_time": "2023-08-17T14:49:02.940Z"
      },
      {
        "duration": 579,
        "start_time": "2023-08-17T14:49:03.314Z"
      },
      {
        "duration": 13,
        "start_time": "2023-08-17T14:49:04.402Z"
      },
      {
        "duration": 7,
        "start_time": "2023-08-17T14:49:05.752Z"
      },
      {
        "duration": 8,
        "start_time": "2023-08-17T14:49:08.261Z"
      },
      {
        "duration": 15025,
        "start_time": "2023-08-17T15:09:43.828Z"
      },
      {
        "duration": 7922,
        "start_time": "2023-08-17T15:09:58.855Z"
      },
      {
        "duration": 677,
        "start_time": "2023-08-17T15:10:06.779Z"
      },
      {
        "duration": 1302,
        "start_time": "2023-08-17T15:10:07.458Z"
      },
      {
        "duration": 15,
        "start_time": "2023-08-17T15:10:08.762Z"
      },
      {
        "duration": 9,
        "start_time": "2023-08-17T15:10:08.779Z"
      },
      {
        "duration": 54,
        "start_time": "2023-08-17T15:10:08.850Z"
      },
      {
        "duration": 0,
        "start_time": "2023-08-17T15:10:08.907Z"
      },
      {
        "duration": 0,
        "start_time": "2023-08-17T15:10:08.909Z"
      },
      {
        "duration": 0,
        "start_time": "2023-08-17T15:10:08.910Z"
      },
      {
        "duration": 0,
        "start_time": "2023-08-17T15:10:08.911Z"
      },
      {
        "duration": 0,
        "start_time": "2023-08-17T15:10:08.950Z"
      },
      {
        "duration": 0,
        "start_time": "2023-08-17T15:10:08.951Z"
      },
      {
        "duration": 0,
        "start_time": "2023-08-17T15:10:08.953Z"
      },
      {
        "duration": 0,
        "start_time": "2023-08-17T15:10:08.954Z"
      },
      {
        "duration": 0,
        "start_time": "2023-08-17T15:10:08.956Z"
      },
      {
        "duration": 0,
        "start_time": "2023-08-17T15:10:08.957Z"
      },
      {
        "duration": 0,
        "start_time": "2023-08-17T15:10:08.959Z"
      },
      {
        "duration": 0,
        "start_time": "2023-08-17T15:10:08.960Z"
      },
      {
        "duration": 0,
        "start_time": "2023-08-17T15:10:08.961Z"
      },
      {
        "duration": 0,
        "start_time": "2023-08-17T15:10:08.963Z"
      },
      {
        "duration": 0,
        "start_time": "2023-08-17T15:10:08.964Z"
      },
      {
        "duration": 0,
        "start_time": "2023-08-17T15:10:08.965Z"
      },
      {
        "duration": 0,
        "start_time": "2023-08-17T15:10:08.966Z"
      },
      {
        "duration": 0,
        "start_time": "2023-08-17T15:10:08.967Z"
      },
      {
        "duration": 0,
        "start_time": "2023-08-17T15:10:08.968Z"
      },
      {
        "duration": 0,
        "start_time": "2023-08-17T15:10:08.969Z"
      },
      {
        "duration": 0,
        "start_time": "2023-08-17T15:10:08.971Z"
      },
      {
        "duration": 0,
        "start_time": "2023-08-17T15:10:08.972Z"
      },
      {
        "duration": 0,
        "start_time": "2023-08-17T15:10:08.973Z"
      },
      {
        "duration": 0,
        "start_time": "2023-08-17T15:10:08.975Z"
      },
      {
        "duration": 0,
        "start_time": "2023-08-17T15:10:09.050Z"
      },
      {
        "duration": 0,
        "start_time": "2023-08-17T15:10:09.051Z"
      },
      {
        "duration": 89,
        "start_time": "2023-08-17T15:11:51.103Z"
      },
      {
        "duration": 92,
        "start_time": "2023-08-17T15:12:03.599Z"
      },
      {
        "duration": 14549,
        "start_time": "2023-08-17T15:12:49.720Z"
      },
      {
        "duration": 8400,
        "start_time": "2023-08-17T15:13:04.271Z"
      },
      {
        "duration": 709,
        "start_time": "2023-08-17T15:13:12.672Z"
      },
      {
        "duration": 1296,
        "start_time": "2023-08-17T15:13:13.383Z"
      },
      {
        "duration": 69,
        "start_time": "2023-08-17T15:13:14.681Z"
      },
      {
        "duration": 6,
        "start_time": "2023-08-17T15:13:14.752Z"
      },
      {
        "duration": 150,
        "start_time": "2023-08-17T15:13:14.760Z"
      },
      {
        "duration": 0,
        "start_time": "2023-08-17T15:13:14.912Z"
      },
      {
        "duration": 0,
        "start_time": "2023-08-17T15:13:14.914Z"
      },
      {
        "duration": 0,
        "start_time": "2023-08-17T15:13:14.915Z"
      },
      {
        "duration": 0,
        "start_time": "2023-08-17T15:13:14.916Z"
      },
      {
        "duration": 0,
        "start_time": "2023-08-17T15:13:14.916Z"
      },
      {
        "duration": 0,
        "start_time": "2023-08-17T15:13:14.917Z"
      },
      {
        "duration": 0,
        "start_time": "2023-08-17T15:13:14.918Z"
      },
      {
        "duration": 0,
        "start_time": "2023-08-17T15:13:14.919Z"
      },
      {
        "duration": 0,
        "start_time": "2023-08-17T15:13:14.920Z"
      },
      {
        "duration": 0,
        "start_time": "2023-08-17T15:13:14.921Z"
      },
      {
        "duration": 0,
        "start_time": "2023-08-17T15:13:14.921Z"
      },
      {
        "duration": 0,
        "start_time": "2023-08-17T15:13:14.922Z"
      },
      {
        "duration": 0,
        "start_time": "2023-08-17T15:13:14.923Z"
      },
      {
        "duration": 0,
        "start_time": "2023-08-17T15:13:14.949Z"
      },
      {
        "duration": 0,
        "start_time": "2023-08-17T15:13:14.950Z"
      },
      {
        "duration": 0,
        "start_time": "2023-08-17T15:13:14.951Z"
      },
      {
        "duration": 0,
        "start_time": "2023-08-17T15:13:14.952Z"
      },
      {
        "duration": 0,
        "start_time": "2023-08-17T15:13:14.953Z"
      },
      {
        "duration": 0,
        "start_time": "2023-08-17T15:13:14.954Z"
      },
      {
        "duration": 0,
        "start_time": "2023-08-17T15:13:14.955Z"
      },
      {
        "duration": 0,
        "start_time": "2023-08-17T15:13:14.956Z"
      },
      {
        "duration": 0,
        "start_time": "2023-08-17T15:13:14.957Z"
      },
      {
        "duration": 0,
        "start_time": "2023-08-17T15:13:14.958Z"
      },
      {
        "duration": 0,
        "start_time": "2023-08-17T15:13:14.959Z"
      },
      {
        "duration": 0,
        "start_time": "2023-08-17T15:13:14.960Z"
      },
      {
        "duration": 0,
        "start_time": "2023-08-17T15:13:14.961Z"
      },
      {
        "duration": 15072,
        "start_time": "2023-08-17T19:37:25.019Z"
      },
      {
        "duration": 8057,
        "start_time": "2023-08-17T19:37:40.093Z"
      },
      {
        "duration": 620,
        "start_time": "2023-08-17T19:37:48.152Z"
      },
      {
        "duration": 1216,
        "start_time": "2023-08-17T19:37:48.774Z"
      },
      {
        "duration": 69,
        "start_time": "2023-08-17T19:37:49.992Z"
      },
      {
        "duration": 7,
        "start_time": "2023-08-17T19:37:50.062Z"
      },
      {
        "duration": 512,
        "start_time": "2023-08-17T19:37:50.070Z"
      },
      {
        "duration": 193,
        "start_time": "2023-08-17T19:37:50.584Z"
      },
      {
        "duration": 0,
        "start_time": "2023-08-17T19:37:50.780Z"
      },
      {
        "duration": 0,
        "start_time": "2023-08-17T19:37:50.781Z"
      },
      {
        "duration": 0,
        "start_time": "2023-08-17T19:37:50.782Z"
      },
      {
        "duration": 0,
        "start_time": "2023-08-17T19:37:50.783Z"
      },
      {
        "duration": 0,
        "start_time": "2023-08-17T19:37:50.784Z"
      },
      {
        "duration": 0,
        "start_time": "2023-08-17T19:37:50.785Z"
      },
      {
        "duration": 0,
        "start_time": "2023-08-17T19:37:50.786Z"
      },
      {
        "duration": 0,
        "start_time": "2023-08-17T19:37:50.787Z"
      },
      {
        "duration": 0,
        "start_time": "2023-08-17T19:37:50.788Z"
      },
      {
        "duration": 0,
        "start_time": "2023-08-17T19:37:50.789Z"
      },
      {
        "duration": 0,
        "start_time": "2023-08-17T19:37:50.790Z"
      },
      {
        "duration": 0,
        "start_time": "2023-08-17T19:37:50.849Z"
      },
      {
        "duration": 0,
        "start_time": "2023-08-17T19:37:50.850Z"
      },
      {
        "duration": 0,
        "start_time": "2023-08-17T19:37:50.851Z"
      },
      {
        "duration": 0,
        "start_time": "2023-08-17T19:37:50.852Z"
      },
      {
        "duration": 0,
        "start_time": "2023-08-17T19:37:50.853Z"
      },
      {
        "duration": 0,
        "start_time": "2023-08-17T19:37:50.854Z"
      },
      {
        "duration": 0,
        "start_time": "2023-08-17T19:37:50.855Z"
      },
      {
        "duration": 0,
        "start_time": "2023-08-17T19:37:50.856Z"
      },
      {
        "duration": 0,
        "start_time": "2023-08-17T19:37:50.857Z"
      },
      {
        "duration": 0,
        "start_time": "2023-08-17T19:37:50.859Z"
      },
      {
        "duration": 0,
        "start_time": "2023-08-17T19:37:50.860Z"
      },
      {
        "duration": 0,
        "start_time": "2023-08-17T19:37:50.861Z"
      },
      {
        "duration": 0,
        "start_time": "2023-08-17T19:37:50.861Z"
      },
      {
        "duration": 0,
        "start_time": "2023-08-17T19:37:50.862Z"
      },
      {
        "duration": 7,
        "start_time": "2023-08-17T19:38:03.152Z"
      },
      {
        "duration": 276,
        "start_time": "2023-08-17T19:38:29.484Z"
      },
      {
        "duration": 909,
        "start_time": "2023-08-17T19:38:30.772Z"
      },
      {
        "duration": 7,
        "start_time": "2023-08-17T19:38:31.682Z"
      },
      {
        "duration": 7,
        "start_time": "2023-08-17T19:38:51.635Z"
      },
      {
        "duration": 307,
        "start_time": "2023-08-17T19:39:00.956Z"
      },
      {
        "duration": 485,
        "start_time": "2023-08-17T19:39:29.282Z"
      },
      {
        "duration": 7,
        "start_time": "2023-08-17T19:39:30.251Z"
      },
      {
        "duration": 2978,
        "start_time": "2023-08-17T19:39:31.994Z"
      },
      {
        "duration": 15725,
        "start_time": "2023-08-17T19:41:24.658Z"
      },
      {
        "duration": 8264,
        "start_time": "2023-08-17T19:41:40.386Z"
      },
      {
        "duration": 703,
        "start_time": "2023-08-17T19:41:48.652Z"
      },
      {
        "duration": 1612,
        "start_time": "2023-08-17T19:41:49.357Z"
      },
      {
        "duration": 13,
        "start_time": "2023-08-17T19:41:50.972Z"
      },
      {
        "duration": 69,
        "start_time": "2023-08-17T19:41:50.986Z"
      },
      {
        "duration": 518,
        "start_time": "2023-08-17T19:41:51.056Z"
      },
      {
        "duration": 3894,
        "start_time": "2023-08-17T19:41:51.576Z"
      },
      {
        "duration": 83,
        "start_time": "2023-08-17T19:41:55.472Z"
      },
      {
        "duration": 4,
        "start_time": "2023-08-17T19:41:55.557Z"
      },
      {
        "duration": 3324,
        "start_time": "2023-08-17T19:41:55.563Z"
      },
      {
        "duration": 1189,
        "start_time": "2023-08-17T19:41:58.889Z"
      },
      {
        "duration": 500,
        "start_time": "2023-08-17T19:42:00.079Z"
      },
      {
        "duration": 1980,
        "start_time": "2023-08-17T19:42:00.584Z"
      },
      {
        "duration": 485,
        "start_time": "2023-08-17T19:42:02.566Z"
      },
      {
        "duration": 1906,
        "start_time": "2023-08-17T19:42:03.053Z"
      },
      {
        "duration": 426,
        "start_time": "2023-08-17T19:42:04.961Z"
      },
      {
        "duration": 804,
        "start_time": "2023-08-17T19:42:05.451Z"
      },
      {
        "duration": 96,
        "start_time": "2023-08-17T19:42:06.257Z"
      },
      {
        "duration": 599,
        "start_time": "2023-08-17T19:42:06.355Z"
      },
      {
        "duration": 446,
        "start_time": "2023-08-17T19:42:06.956Z"
      },
      {
        "duration": 64,
        "start_time": "2023-08-17T19:42:07.403Z"
      },
      {
        "duration": 2947,
        "start_time": "2023-08-17T19:42:07.468Z"
      },
      {
        "duration": 715,
        "start_time": "2023-08-17T19:42:10.450Z"
      },
      {
        "duration": 554,
        "start_time": "2023-08-17T19:42:11.167Z"
      },
      {
        "duration": 1359,
        "start_time": "2023-08-17T19:42:11.723Z"
      },
      {
        "duration": 1310,
        "start_time": "2023-08-17T19:42:13.084Z"
      },
      {
        "duration": 223,
        "start_time": "2023-08-17T19:42:14.451Z"
      },
      {
        "duration": 979,
        "start_time": "2023-08-17T19:42:14.676Z"
      },
      {
        "duration": 86,
        "start_time": "2023-08-18T06:42:33.898Z"
      }
    ],
    "colab": {
      "provenance": [],
      "include_colab_link": true
    },
    "kernelspec": {
      "display_name": "Python 3 (ipykernel)",
      "language": "python",
      "name": "python3"
    },
    "language_info": {
      "codemirror_mode": {
        "name": "ipython",
        "version": 3
      },
      "file_extension": ".py",
      "mimetype": "text/x-python",
      "name": "python",
      "nbconvert_exporter": "python",
      "pygments_lexer": "ipython3",
      "version": "3.9.5"
    },
    "toc": {
      "base_numbering": 1,
      "nav_menu": {},
      "number_sections": true,
      "sideBar": true,
      "skip_h1_title": true,
      "title_cell": "Table of Contents",
      "title_sidebar": "Contents",
      "toc_cell": false,
      "toc_position": {},
      "toc_section_display": true,
      "toc_window_display": false
    }
  },
  "nbformat": 4,
  "nbformat_minor": 0
}